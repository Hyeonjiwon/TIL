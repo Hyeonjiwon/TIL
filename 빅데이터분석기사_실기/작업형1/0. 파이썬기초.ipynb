{
  "nbformat": 4,
  "nbformat_minor": 0,
  "metadata": {
    "colab": {
      "provenance": [],
      "toc_visible": true
    },
    "kernelspec": {
      "name": "python3",
      "display_name": "Python 3"
    },
    "language_info": {
      "name": "python"
    }
  },
  "cells": [
    {
      "cell_type": "markdown",
      "source": [
        "### 데이터 분석을 위한 파이썬 기초1"
      ],
      "metadata": {
        "id": "5ZMijke4UeFT"
      }
    },
    {
      "cell_type": "markdown",
      "source": [
        "#### 출력"
      ],
      "metadata": {
        "id": "CTuO14DfVpKY"
      }
    },
    {
      "cell_type": "code",
      "source": [
        "# 숫자\n",
        "print(45)"
      ],
      "metadata": {
        "colab": {
          "base_uri": "https://localhost:8080/"
        },
        "id": "7U59ubexUu65",
        "outputId": "b3eaf03f-0092-4a81-f62b-75eeb4538df9"
      },
      "execution_count": 3,
      "outputs": [
        {
          "output_type": "stream",
          "name": "stdout",
          "text": [
            "45\n"
          ]
        }
      ]
    },
    {
      "cell_type": "code",
      "source": [
        "# 문자\n",
        "print(\"happy\")\n",
        "print('hello')"
      ],
      "metadata": {
        "colab": {
          "base_uri": "https://localhost:8080/"
        },
        "id": "t_Zd9DTqWjUi",
        "outputId": "c4fd1e6e-22fd-41db-ffcb-db1512e49d79"
      },
      "execution_count": 5,
      "outputs": [
        {
          "output_type": "stream",
          "name": "stdout",
          "text": [
            "happy\n",
            "hello\n"
          ]
        }
      ]
    },
    {
      "cell_type": "code",
      "source": [
        "# 노트북에선 print 생략해도 출력 가능\n",
        "456"
      ],
      "metadata": {
        "colab": {
          "base_uri": "https://localhost:8080/"
        },
        "id": "EhV3d7GiWmtD",
        "outputId": "91f7f8e6-a327-4b81-de3e-b694e376a3f1"
      },
      "execution_count": 7,
      "outputs": [
        {
          "output_type": "execute_result",
          "data": {
            "text/plain": [
              "456"
            ]
          },
          "metadata": {},
          "execution_count": 7
        }
      ]
    },
    {
      "cell_type": "markdown",
      "source": [
        "#### 주석\n",
        "\n",
        "- 한줄만 주석 처리(해제) : Ctrl + / (맥 Command + /)\n",
        "- 여러 줄 주석 처리(해제) : 블록지정 후 Ctrl + / (맥 Command + /)"
      ],
      "metadata": {
        "id": "lC6vAch8Vv4S"
      }
    },
    {
      "cell_type": "code",
      "source": [
        "# print(1)\n",
        "\n",
        "# print(2)\n",
        "# print(3)"
      ],
      "metadata": {
        "id": "l10KE9gQV1aw"
      },
      "execution_count": 9,
      "outputs": []
    },
    {
      "cell_type": "markdown",
      "source": [
        "#### 산술연산자\n",
        "- +, -, *, /\n",
        "- //, %, **"
      ],
      "metadata": {
        "id": "G-7DETAMV4iJ"
      }
    },
    {
      "cell_type": "code",
      "source": [
        "# 더하기\n",
        "print(2+3)\n",
        "print(3.14 + 5)\n",
        "print(\"hello\" + \"world\")\n",
        "\n",
        "# 몫\n",
        "print(16//3)\n",
        "\n",
        "# 나머지\n",
        "print(16%3)\n",
        "\n",
        "# 제곱\n",
        "print(3**2)"
      ],
      "metadata": {
        "colab": {
          "base_uri": "https://localhost:8080/"
        },
        "id": "6wTOoIxDV-vm",
        "outputId": "707fc81b-0fe3-47b6-83af-6a0587db6309"
      },
      "execution_count": 12,
      "outputs": [
        {
          "output_type": "stream",
          "name": "stdout",
          "text": [
            "5\n",
            "8.14\n",
            "helloworld\n",
            "5\n",
            "1\n",
            "9\n"
          ]
        }
      ]
    },
    {
      "cell_type": "markdown",
      "source": [
        "#### 자료형(타입)\n",
        "- 정수형: int\n",
        "- 실수형: float\n",
        "- 문자열: str\n",
        "- 참/거짓: bool\n",
        "- type()으로 자료형 확인"
      ],
      "metadata": {
        "id": "dJ2F5xMgV42M"
      }
    },
    {
      "cell_type": "code",
      "source": [
        "# 정수\n",
        "print(type(3))\n",
        "\n",
        "# 실수\n",
        "print(type(3.14))\n",
        "\n",
        "# 문자열\n",
        "print(type(\"hello\"))\n",
        "\n",
        "# bool\n",
        "print(type(True))\n",
        "print(type(False))\n",
        "\n",
        "\n",
        "type(3)"
      ],
      "metadata": {
        "colab": {
          "base_uri": "https://localhost:8080/"
        },
        "id": "0mY7YAyyWG6J",
        "outputId": "24cdd4d5-71e9-4ed6-a89e-e025cdf18e8b"
      },
      "execution_count": 18,
      "outputs": [
        {
          "output_type": "stream",
          "name": "stdout",
          "text": [
            "<class 'int'>\n",
            "<class 'float'>\n",
            "<class 'str'>\n",
            "<class 'bool'>\n",
            "<class 'bool'>\n"
          ]
        },
        {
          "output_type": "execute_result",
          "data": {
            "text/plain": [
              "int"
            ]
          },
          "metadata": {},
          "execution_count": 18
        }
      ]
    },
    {
      "cell_type": "markdown",
      "source": [
        "#### 변수"
      ],
      "metadata": {
        "id": "B_PGpxmzWCxo"
      }
    },
    {
      "cell_type": "code",
      "source": [
        "box1 = 10\n",
        "box1"
      ],
      "metadata": {
        "colab": {
          "base_uri": "https://localhost:8080/"
        },
        "id": "8OnnFoFCVikE",
        "outputId": "1104d3d1-af5e-4326-ef02-984c60b2bb11"
      },
      "execution_count": 20,
      "outputs": [
        {
          "output_type": "execute_result",
          "data": {
            "text/plain": [
              "10"
            ]
          },
          "metadata": {},
          "execution_count": 20
        }
      ]
    },
    {
      "cell_type": "code",
      "source": [
        "box2 = 20\n",
        "box2"
      ],
      "metadata": {
        "colab": {
          "base_uri": "https://localhost:8080/"
        },
        "id": "XftFAW_PYtG-",
        "outputId": "94cc82c0-43ff-475b-813c-68290941a488"
      },
      "execution_count": 21,
      "outputs": [
        {
          "output_type": "execute_result",
          "data": {
            "text/plain": [
              "20"
            ]
          },
          "metadata": {},
          "execution_count": 21
        }
      ]
    },
    {
      "cell_type": "code",
      "source": [
        "box3 = box1 + box2\n",
        "box3"
      ],
      "metadata": {
        "colab": {
          "base_uri": "https://localhost:8080/"
        },
        "id": "oJgMtx4mYxho",
        "outputId": "dee83e40-12b1-4155-ae3b-34da056e2d0a"
      },
      "execution_count": 23,
      "outputs": [
        {
          "output_type": "execute_result",
          "data": {
            "text/plain": [
              "30"
            ]
          },
          "metadata": {},
          "execution_count": 23
        }
      ]
    },
    {
      "cell_type": "markdown",
      "source": [
        "#### 형변환\n",
        "- str(문자) -> int(숫자): int(str변수)\n",
        "- int(숫자) -> str(문자): str(int변수)"
      ],
      "metadata": {
        "id": "QA8H8S2TXSP-"
      }
    },
    {
      "cell_type": "code",
      "source": [
        "str1 = '10'\n",
        "print(str1 + \"20\")\n",
        "print(type(str1))\n",
        "\n",
        "# str -> int 형변환\n",
        "str2 = int(str1)\n",
        "print(str2 + 20)\n",
        "print(type(str2))\n",
        "\n",
        "# int -> str 형변환\n",
        "num1 = 10\n",
        "print(num1 + 20)\n",
        "print(type(num1))\n",
        "\n",
        "num2 = str(num1)\n",
        "print(num2 + \"20\")\n",
        "print(type(num2))"
      ],
      "metadata": {
        "colab": {
          "base_uri": "https://localhost:8080/"
        },
        "id": "R3uTCdA6XV8_",
        "outputId": "d8dbb881-9e2b-4ed6-cff1-4066bdbd93a2"
      },
      "execution_count": 36,
      "outputs": [
        {
          "output_type": "stream",
          "name": "stdout",
          "text": [
            "1020\n",
            "<class 'str'>\n",
            "30\n",
            "<class 'int'>\n",
            "30\n",
            "<class 'int'>\n",
            "1020\n",
            "<class 'str'>\n"
          ]
        }
      ]
    },
    {
      "cell_type": "markdown",
      "source": [
        "#### 비교연산자"
      ],
      "metadata": {
        "id": "LvTWZj2IX5ZB"
      }
    },
    {
      "cell_type": "code",
      "source": [
        "10 > 5"
      ],
      "metadata": {
        "colab": {
          "base_uri": "https://localhost:8080/"
        },
        "id": "1FyrGAc8YpFi",
        "outputId": "9b559b6f-77c9-4890-f19f-b2752af8d7bd"
      },
      "execution_count": 46,
      "outputs": [
        {
          "output_type": "execute_result",
          "data": {
            "text/plain": [
              "True"
            ]
          },
          "metadata": {},
          "execution_count": 46
        }
      ]
    },
    {
      "cell_type": "code",
      "source": [
        "10 < 5"
      ],
      "metadata": {
        "colab": {
          "base_uri": "https://localhost:8080/"
        },
        "id": "ML5uWkNsaFpP",
        "outputId": "e7312e28-81c4-48dd-f12d-6f4e491bf549"
      },
      "execution_count": 45,
      "outputs": [
        {
          "output_type": "execute_result",
          "data": {
            "text/plain": [
              "False"
            ]
          },
          "metadata": {},
          "execution_count": 45
        }
      ]
    },
    {
      "cell_type": "code",
      "source": [
        "10 >= 5"
      ],
      "metadata": {
        "colab": {
          "base_uri": "https://localhost:8080/"
        },
        "id": "grFs1k5FaHN-",
        "outputId": "421d98ef-e6ca-4284-b450-497e2156d43d"
      },
      "execution_count": 44,
      "outputs": [
        {
          "output_type": "execute_result",
          "data": {
            "text/plain": [
              "True"
            ]
          },
          "metadata": {},
          "execution_count": 44
        }
      ]
    },
    {
      "cell_type": "code",
      "source": [
        "10 <= 5"
      ],
      "metadata": {
        "colab": {
          "base_uri": "https://localhost:8080/"
        },
        "id": "VFFIgLFqaI-3",
        "outputId": "769c7f46-42b6-4fb0-d591-f8c3dbb47ffc"
      },
      "execution_count": 40,
      "outputs": [
        {
          "output_type": "execute_result",
          "data": {
            "text/plain": [
              "False"
            ]
          },
          "metadata": {},
          "execution_count": 40
        }
      ]
    },
    {
      "cell_type": "code",
      "source": [
        "10 == 10"
      ],
      "metadata": {
        "colab": {
          "base_uri": "https://localhost:8080/"
        },
        "id": "jgqglalgaLPl",
        "outputId": "d5845889-604b-40d1-ef81-63cf31638154"
      },
      "execution_count": 41,
      "outputs": [
        {
          "output_type": "execute_result",
          "data": {
            "text/plain": [
              "True"
            ]
          },
          "metadata": {},
          "execution_count": 41
        }
      ]
    },
    {
      "cell_type": "code",
      "source": [
        "10 != 5"
      ],
      "metadata": {
        "colab": {
          "base_uri": "https://localhost:8080/"
        },
        "id": "plIrVWIZaO7l",
        "outputId": "6ffd4910-0d2e-4125-e704-3b76f4500556"
      },
      "execution_count": 42,
      "outputs": [
        {
          "output_type": "execute_result",
          "data": {
            "text/plain": [
              "True"
            ]
          },
          "metadata": {},
          "execution_count": 42
        }
      ]
    },
    {
      "cell_type": "code",
      "source": [
        "a = \"hi\"\n",
        "b = \"hello\"\n",
        "c = \"hi\"\n",
        "\n",
        "print(a == b)\n",
        "print(b == c)\n",
        "print(c == a)"
      ],
      "metadata": {
        "colab": {
          "base_uri": "https://localhost:8080/"
        },
        "id": "okKh9d0taZjg",
        "outputId": "43b1f1c5-afd7-4257-ea81-fd6482975ced"
      },
      "execution_count": 43,
      "outputs": [
        {
          "output_type": "stream",
          "name": "stdout",
          "text": [
            "False\n",
            "False\n",
            "True\n"
          ]
        }
      ]
    },
    {
      "cell_type": "markdown",
      "source": [
        "#### 조건문"
      ],
      "metadata": {
        "id": "II6NuXMiaxpu"
      }
    },
    {
      "cell_type": "code",
      "source": [
        "if True:\n",
        "    print(\"참\")"
      ],
      "metadata": {
        "colab": {
          "base_uri": "https://localhost:8080/"
        },
        "id": "-f-Ttkrlav3O",
        "outputId": "bc42596e-14ec-4329-a30e-4b8a96842afd"
      },
      "execution_count": 47,
      "outputs": [
        {
          "output_type": "stream",
          "name": "stdout",
          "text": [
            "참\n"
          ]
        }
      ]
    },
    {
      "cell_type": "code",
      "source": [
        "if False:\n",
        "    print(\"거짓\")"
      ],
      "metadata": {
        "id": "9V3c-Xnla9c0"
      },
      "execution_count": 49,
      "outputs": []
    },
    {
      "cell_type": "code",
      "source": [
        "a = 10\n",
        "\n",
        "if a > 10:\n",
        "    print(\"10보다 큼\")\n",
        "elif a == 10:\n",
        "    print(\"10임\")\n",
        "else:\n",
        "    print(\"10 미만\")"
      ],
      "metadata": {
        "colab": {
          "base_uri": "https://localhost:8080/"
        },
        "id": "048M4PyCbCQZ",
        "outputId": "951c5b30-c6f9-431a-9bb2-5c312d823bd4"
      },
      "execution_count": 50,
      "outputs": [
        {
          "output_type": "stream",
          "name": "stdout",
          "text": [
            "10임\n"
          ]
        }
      ]
    }
  ]
}