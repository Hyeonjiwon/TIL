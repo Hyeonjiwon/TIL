{
  "nbformat": 4,
  "nbformat_minor": 0,
  "metadata": {
    "colab": {
      "provenance": []
    },
    "kernelspec": {
      "name": "python3",
      "display_name": "Python 3"
    },
    "language_info": {
      "name": "python"
    }
  },
  "cells": [
    {
      "cell_type": "markdown",
      "source": [
        "# 작업형1 모의문제2\n",
        "- data : members.csv"
      ],
      "metadata": {
        "id": "jvuNsPAY41yZ"
      }
    },
    {
      "cell_type": "markdown",
      "source": [
        "## 문제4\n",
        "- 주어진 데이터에서 자료형(type)이 object인 컬럼은 삭제하고, 결측치는 0으로 대체한다.\n",
        "- 행 단위로 합한 다음 그 값이 3000보다 큰 값의 데이터 수를 구하시오\n",
        "('age', 'f1', 'f2', 'f5', 'views'의 각 행별 합)"
      ],
      "metadata": {
        "id": "PVBhS3mWQOJp"
      }
    },
    {
      "cell_type": "markdown",
      "source": [
        "- 풀이 강의 수강 후"
      ],
      "metadata": {
        "id": "xKb3VIh0cBZq"
      }
    },
    {
      "cell_type": "code",
      "source": [
        "import pandas as pd\n",
        "df = pd.read_csv('members.csv')\n",
        "\n",
        "df = df.select_dtypes(exclude='O')\n",
        "df = df.fillna(0)\n",
        "\n",
        "print(len(df[df.sum(axis=1) > 3000]))"
      ],
      "metadata": {
        "colab": {
          "base_uri": "https://localhost:8080/"
        },
        "id": "F2mi-fGDaiZ7",
        "outputId": "caa27ad2-1cf1-4d9f-fb55-d3b8f702a90d"
      },
      "execution_count": 25,
      "outputs": [
        {
          "output_type": "stream",
          "name": "stdout",
          "text": [
            "73\n"
          ]
        }
      ]
    },
    {
      "cell_type": "code",
      "source": [
        "import pandas as pd\n",
        "df = pd.read_csv('members.csv')\n",
        "\n",
        "cols = df.select_dtypes(include='O').columns\n",
        "# print(cols)\n",
        "\n",
        "df = df.drop(cols, axis=1)\n",
        "df = df.fillna(0)\n",
        "print(len(df[df.sum(axis=1) > 3000]))"
      ],
      "metadata": {
        "colab": {
          "base_uri": "https://localhost:8080/"
        },
        "id": "YicKVFf7am46",
        "outputId": "28e0c768-944d-49a5-b589-a59de57676d7"
      },
      "execution_count": 26,
      "outputs": [
        {
          "output_type": "stream",
          "name": "stdout",
          "text": [
            "73\n"
          ]
        }
      ]
    },
    {
      "cell_type": "code",
      "source": [
        "import pandas as pd\n",
        "df = pd.read_csv('members.csv')\n",
        "\n",
        "cols = df.select_dtypes(exclude='O').columns\n",
        "df = df[cols]\n",
        "df = df.fillna(0)\n",
        "\n",
        "# 행, 열 바꾸기\n",
        "df = df.T\n",
        "\n",
        "print(sum(df.sum() > 3000))"
      ],
      "metadata": {
        "colab": {
          "base_uri": "https://localhost:8080/"
        },
        "id": "ZW9vFIj0b2Iv",
        "outputId": "28dea6ca-4f4b-4aca-9155-4151212fffd5"
      },
      "execution_count": 44,
      "outputs": [
        {
          "output_type": "stream",
          "name": "stdout",
          "text": [
            "73\n"
          ]
        }
      ]
    },
    {
      "cell_type": "markdown",
      "source": [
        "- 1번째 풀이"
      ],
      "metadata": {
        "id": "zResGKJpb7SO"
      }
    },
    {
      "cell_type": "code",
      "source": [
        "# your code\n",
        "import pandas as pd\n",
        "\n",
        "df =  pd.read_csv('members.csv')\n",
        "# print(df.info())\n",
        "\n",
        "# object 타입 컬럼 삭제\n",
        "cols = ['age', 'f1', 'f2', 'f5', 'views']\n",
        "df = df[cols]\n",
        "# print(df.info())\n",
        "\n",
        "# 결측치 0\n",
        "# print(df.shape)\n",
        "df = df.fillna(0)\n",
        "# print(df.shape)\n",
        "\n",
        "# 행 단위로 sum()\n",
        "df['sum'] = df.sum(axis=1)\n",
        "\n",
        "# len(x > 3000)\n",
        "cond = df['sum'] > 3000\n",
        "print(len(df[cond]))"
      ],
      "metadata": {
        "id": "d9UC9l2OQQ4m",
        "colab": {
          "base_uri": "https://localhost:8080/"
        },
        "outputId": "9d574084-f492-4fb0-8be2-48b25ee90626"
      },
      "execution_count": null,
      "outputs": [
        {
          "output_type": "stream",
          "name": "stdout",
          "text": [
            "73\n"
          ]
        }
      ]
    },
    {
      "cell_type": "markdown",
      "source": [
        "- 2번째 풀이"
      ],
      "metadata": {
        "id": "SDHJ3twsb_Ty"
      }
    },
    {
      "cell_type": "code",
      "source": [
        "import pandas as pd\n",
        "df = pd.read_csv(\"members.csv\")\n",
        "\n",
        "# select_dtypes(include, exclude)\n",
        "df = df.select_dtypes(exclude='O').fillna(0)\n",
        "row_sum = df.sum(axis=1)\n",
        "print(sum(row_sum > 3000))"
      ],
      "metadata": {
        "colab": {
          "base_uri": "https://localhost:8080/"
        },
        "id": "qVVbucR7dm7V",
        "outputId": "900ec419-0aae-43a3-c15d-cf105fc543a4"
      },
      "execution_count": null,
      "outputs": [
        {
          "output_type": "stream",
          "name": "stdout",
          "text": [
            "73\n"
          ]
        }
      ]
    },
    {
      "cell_type": "markdown",
      "source": [
        "## 문제5\n",
        "- 데이터에서 IQR을 활용해 views 컬럼의 이상치를 찾고, 이상치 데이터의 수를 구하시오"
      ],
      "metadata": {
        "id": "h2IXr3A_QRWS"
      }
    },
    {
      "cell_type": "markdown",
      "source": [
        "- 풀이 강의 수강 후"
      ],
      "metadata": {
        "id": "Aa8PhK5KdKlz"
      }
    },
    {
      "cell_type": "code",
      "source": [
        "import pandas as pd\n",
        "df = pd.read_csv('members.csv')\n",
        "\n",
        "q1 = df['views'].quantile(.25)\n",
        "q3 = df['views'].quantile(.75)\n",
        "\n",
        "IQR = q3 - q1\n",
        "\n",
        "min = q1 - 1.5 * IQR\n",
        "max = q3 + 1.5 * IQR\n",
        "\n",
        "print(sum(df['views'] < min) + sum(df['views'] > max))"
      ],
      "metadata": {
        "colab": {
          "base_uri": "https://localhost:8080/"
        },
        "id": "c7RJOkdadNzz",
        "outputId": "cab80f43-2149-452f-820d-72c5096b70ed"
      },
      "execution_count": 58,
      "outputs": [
        {
          "output_type": "stream",
          "name": "stdout",
          "text": [
            "4\n"
          ]
        }
      ]
    },
    {
      "cell_type": "markdown",
      "source": [
        "- 1번째 풀이"
      ],
      "metadata": {
        "id": "DZW8Q-_HdGt5"
      }
    },
    {
      "cell_type": "code",
      "source": [
        "# your code\n",
        "import pandas as pd\n",
        "\n",
        "df = pd.read_csv('members.csv')\n",
        "\n",
        "# IQR로 이상치 찾기\n",
        "q1 = df['views'].quantile(.25)\n",
        "q3 = df['views'].quantile(.75)\n",
        "\n",
        "# print(q1, q3) # 3031.0 8144.5 사이 값만 정상\n",
        "\n",
        "cond1 = df['views'] < q1\n",
        "cond2 = df['views'] > q3\n",
        "\n",
        "result = len(df[cond1|cond2])\n",
        "\n",
        "print(result)"
      ],
      "metadata": {
        "id": "SNMu1ew0QTnD",
        "colab": {
          "base_uri": "https://localhost:8080/"
        },
        "outputId": "81aa5975-ecd3-4b14-8a8a-0dbeb7afaf92"
      },
      "execution_count": null,
      "outputs": [
        {
          "output_type": "stream",
          "name": "stdout",
          "text": [
            "48\n"
          ]
        }
      ]
    },
    {
      "cell_type": "markdown",
      "source": [
        "- 2번째 풀이"
      ],
      "metadata": {
        "id": "bDTbL2ZRdIqW"
      }
    },
    {
      "cell_type": "code",
      "source": [
        "import pandas as pd\n",
        "\n",
        "df = pd.read_csv('members.csv')\n",
        "\n",
        "q1 = df['views'].quantile(.25)\n",
        "q3 = df['views'].quantile(.75)\n",
        "\n",
        "IQR = q3 - q1\n",
        "\n",
        "min = q1 - IQR * 1.5\n",
        "max = q3 + IQR * 1.5\n",
        "\n",
        "result = sum(df['views'] < min) + sum(df['views'] > max)\n",
        "print(result)"
      ],
      "metadata": {
        "colab": {
          "base_uri": "https://localhost:8080/"
        },
        "id": "3zI1RKd9Zxnz",
        "outputId": "1ad27828-3aef-46dd-ecb6-88f326120c3e"
      },
      "execution_count": null,
      "outputs": [
        {
          "output_type": "stream",
          "name": "stdout",
          "text": [
            "4\n"
          ]
        }
      ]
    },
    {
      "cell_type": "markdown",
      "source": [
        "## 문제6\n",
        "- 'age' 컬럼의 이상치(소수점 나이와 음수나이, 0포함)를 제거하고\n",
        "- 제거 전 후의 views 컬럼 표준편차를 더하시오 (최종 결과 값은 소수 둘째자리까지 출력, 셋째자리에서 반올림)"
      ],
      "metadata": {
        "id": "gV-W-F2wQTuw"
      }
    },
    {
      "cell_type": "markdown",
      "source": [
        "- 풀이 강의 수강 후"
      ],
      "metadata": {
        "id": "KYBSkfXfe6hI"
      }
    },
    {
      "cell_type": "code",
      "source": [
        "import pandas as pd\n",
        "df = pd.read_csv('members.csv')\n",
        "\n",
        "r1 = df['views'].std()\n",
        "\n",
        "cond = df['age'] <= 0\n",
        "# print(df.shape)\n",
        "df = df[~cond]\n",
        "# print(df.shape)\n",
        "\n",
        "cond = df['age'] == round(df['age'], 0) # 반올림 했을 때 값이 같으면 정수형\n",
        "df = df[cond]\n",
        "# print(df.shape)\n",
        "\n",
        "r2 = df['views'].std()\n",
        "\n",
        "print(round(r1+r2, 2))"
      ],
      "metadata": {
        "colab": {
          "base_uri": "https://localhost:8080/"
        },
        "id": "HXNOD7plgrko",
        "outputId": "d5846961-8132-46e8-b71a-9966d60f45e9"
      },
      "execution_count": 94,
      "outputs": [
        {
          "output_type": "stream",
          "name": "stdout",
          "text": [
            "(100, 10)\n",
            "(96, 10)\n",
            "(90, 10)\n",
            "8420.69\n"
          ]
        }
      ]
    },
    {
      "cell_type": "markdown",
      "source": [
        "- 1번째 풀이"
      ],
      "metadata": {
        "id": "L5Z_3WgTe1Vp"
      }
    },
    {
      "cell_type": "code",
      "source": [
        "# your code\n",
        "import pandas as pd\n",
        "\n",
        "df = pd.read_csv('members.csv')\n",
        "\n",
        "before_std = df['views'].std()\n",
        "# print(before_std)\n",
        "\n",
        "df = df.astype({'age': 'int'})\n",
        "# print(df.info())\n",
        "\n",
        "# print(df.shape)\n",
        "cond = df['age'] > 0\n",
        "df = df[cond]\n",
        "\n",
        "after_std = df['views'].std()\n",
        "# print(after_std)\n",
        "\n",
        "result = before_std + after_std\n",
        "# print(result)\n",
        "print(round(result, 2))"
      ],
      "metadata": {
        "id": "TAP8aeX0QW3L",
        "colab": {
          "base_uri": "https://localhost:8080/"
        },
        "outputId": "a1efdd1b-0b07-4b23-deea-787566c01fa3"
      },
      "execution_count": null,
      "outputs": [
        {
          "output_type": "stream",
          "name": "stdout",
          "text": [
            "8407.33\n"
          ]
        }
      ]
    },
    {
      "cell_type": "markdown",
      "source": [
        "- 2번째 풀이"
      ],
      "metadata": {
        "id": "hAGPTifIe2hZ"
      }
    },
    {
      "cell_type": "code",
      "source": [
        "import pandas as pd\n",
        "\n",
        "df = pd.read_csv('members.csv')\n",
        "\n",
        "std1 = df['views'].std()\n",
        "\n",
        "\n",
        "# 소수점 나이 제거\n",
        "cond1 = (df['age'] - round(df['age'])) == 0\n",
        "df = df[cond1]\n",
        "\n",
        "# 0, 음수 나이 제거\n",
        "cond2 = df['age'] > 0\n",
        "df = df[cond2]\n",
        "\n",
        "std2 = df['views'].std()\n",
        "\n",
        "result = std1 + std2\n",
        "\n",
        "print(round(result, 2))"
      ],
      "metadata": {
        "id": "IvJ_vQcv95fH",
        "colab": {
          "base_uri": "https://localhost:8080/"
        },
        "outputId": "cfb9069b-7ea8-416b-d52b-d7ee2461bd4a"
      },
      "execution_count": null,
      "outputs": [
        {
          "output_type": "stream",
          "name": "stdout",
          "text": [
            "8420.694001174805\n",
            "8421\n",
            "8420.69\n"
          ]
        }
      ]
    },
    {
      "cell_type": "markdown",
      "source": [
        "- 3번째 풀이"
      ],
      "metadata": {
        "id": "ylN78ycHguTl"
      }
    },
    {
      "cell_type": "code",
      "source": [
        "import pandas as pd\n",
        "df = pd.read_csv('members.csv')\n",
        "\n",
        "std1 = df['views'].std()\n",
        "\n",
        "# 소수점\n",
        "df['new_age'] = df['age']- round(df['age'])\n",
        "\n",
        "cond1 = df['new_age'] == 0\n",
        "cond2 = df['age'] > 0\n",
        "\n",
        "df = df[cond1 & cond2]\n",
        "\n",
        "std2 = df['views'].std()\n",
        "\n",
        "result = std1 + std2\n",
        "\n",
        "print(round(result,2))"
      ],
      "metadata": {
        "colab": {
          "base_uri": "https://localhost:8080/"
        },
        "id": "1FdjXEkse6FM",
        "outputId": "1605444a-15df-4749-f936-c441801aafef"
      },
      "execution_count": 85,
      "outputs": [
        {
          "output_type": "stream",
          "name": "stdout",
          "text": [
            "8420.69\n"
          ]
        }
      ]
    },
    {
      "cell_type": "markdown",
      "source": [
        "# 풀이"
      ],
      "metadata": {
        "id": "7wXaul1WQZth"
      }
    },
    {
      "cell_type": "markdown",
      "source": [
        "## 문제4\n",
        "- 주어진 데이터에서 자료형(type)이 object인 컬럼은 삭제하고, 결측치는 0으로 대체한다.\n",
        "- 행 단위로 합한 다음 그 값이 3000보다 큰 값의 데이터 수를 구하시오\n",
        "('age', 'f1', 'f2', 'f5', 'views'의 각 행별 합)"
      ],
      "metadata": {
        "id": "oz7POiFg5BbF"
      }
    },
    {
      "cell_type": "code",
      "execution_count": null,
      "metadata": {
        "id": "T0JqOyc24q9O",
        "colab": {
          "base_uri": "https://localhost:8080/"
        },
        "outputId": "e6e33b7a-f668-443e-a079-23e4f2b56fd5"
      },
      "outputs": [
        {
          "output_type": "execute_result",
          "data": {
            "text/plain": [
              "73"
            ]
          },
          "metadata": {},
          "execution_count": 122
        }
      ],
      "source": [
        "# 풀이\n",
        "import pandas as pd\n",
        "df = pd.read_csv(\"members.csv\")\n",
        "\n",
        "# cols = df.select_dtypes(include='object').columns\n",
        "# cols\n",
        "# df = df.drop(cols, axis=1)\n",
        "# df.head()\n",
        "\n",
        "cols = df.select_dtypes(exclude='object').columns\n",
        "cols\n",
        "df = df[cols]\n",
        "df.head()\n",
        "\n",
        "df = df.fillna(0)\n",
        "df = df.T\n",
        "\n",
        "df.loc['new'] = df.sum()\n",
        "sum(df.loc['new'] > 3000)\n",
        "# df.head()\n",
        "# print(sum(df.sum() > 3000))"
      ]
    },
    {
      "cell_type": "code",
      "source": [],
      "metadata": {
        "id": "7IEKYbIJnYaY"
      },
      "execution_count": null,
      "outputs": []
    },
    {
      "cell_type": "markdown",
      "source": [
        "## 문제5\n",
        "- 데이터에서 IQR을 활용해 views 컬럼의 이상치를 찾고, 이상치 데이터의 수를 구하시오\n"
      ],
      "metadata": {
        "id": "s8s-g51Z5EA7"
      }
    },
    {
      "cell_type": "code",
      "source": [
        "# 풀이\n",
        "import pandas as pd\n",
        "df = pd.read_csv(\"members.csv\")\n",
        "\n",
        "q3 = df['views'].quantile(.75)\n",
        "q1 = df['views'].quantile(.25)\n",
        "\n",
        "IQR = q3 - q1\n",
        "# print(IQR)\n",
        "\n",
        "line1 = q1 - 1.5 * IQR\n",
        "line2 = q3 + 1.5 * IQR\n",
        "\n",
        "\n",
        "print(sum(df['views'] < line1) + sum(df['views'] > line2))"
      ],
      "metadata": {
        "id": "9mpdqGoJD_zM",
        "colab": {
          "base_uri": "https://localhost:8080/"
        },
        "outputId": "c8b1914a-e117-465c-d7e9-0ed1a35c10c6"
      },
      "execution_count": null,
      "outputs": [
        {
          "output_type": "stream",
          "name": "stdout",
          "text": [
            "4\n"
          ]
        }
      ]
    },
    {
      "cell_type": "markdown",
      "source": [
        "## 문제6\n",
        "- 'age' 컬럼의 이상치(소수점 나이와 음수나이, 0포함)를 제거하고\n",
        "- 제거 전 후의 views 컬럼 표준편차를 더하시오 (최종 결과 값은 소수 둘째자리까지 출력, 셋째자리에서 반올림)"
      ],
      "metadata": {
        "id": "ssStdfrWuUGA"
      }
    },
    {
      "cell_type": "code",
      "source": [
        "# 풀이\n",
        "import pandas as pd\n",
        "df = pd.read_csv(\"members.csv\")\n",
        "\n",
        "r1 = df['views'].std()\n",
        "\n",
        "cond = df['age'] <= 0\n",
        "# print(df.shape)\n",
        "df = df[~cond]\n",
        "# print(df.shape)\n",
        "\n",
        "# print(df.shape)\n",
        "cond = df['age'] == round(df['age'],0)\n",
        "df = df[cond]\n",
        "# print(df.shape)\n",
        "\n",
        "r2 = df['views'].std()\n",
        "\n",
        "print(round(r1 + r2, 2))"
      ],
      "metadata": {
        "id": "jg9GOVGWuUiT",
        "colab": {
          "base_uri": "https://localhost:8080/"
        },
        "outputId": "da0cb77b-e2b5-4615-81c3-3acaf3b5537c"
      },
      "execution_count": null,
      "outputs": [
        {
          "output_type": "stream",
          "name": "stdout",
          "text": [
            "8420.69\n"
          ]
        }
      ]
    },
    {
      "cell_type": "code",
      "source": [],
      "metadata": {
        "id": "UjTZx21OEI8p"
      },
      "execution_count": null,
      "outputs": []
    }
  ]
}