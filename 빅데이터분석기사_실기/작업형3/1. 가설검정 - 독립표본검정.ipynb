{
  "nbformat": 4,
  "nbformat_minor": 0,
  "metadata": {
    "colab": {
      "provenance": []
    },
    "kernelspec": {
      "name": "python3",
      "display_name": "Python 3"
    },
    "language_info": {
      "name": "python"
    }
  },
  "cells": [
    {
      "cell_type": "markdown",
      "source": [
        "# 단일표본검정"
      ],
      "metadata": {
        "id": "GMOOpj9dNqb4"
      }
    },
    {
      "cell_type": "markdown",
      "source": [
        "나커피 유튜버는 최근 판매되는 \"합격 원두(dark)\" 상품의 실제 무게를 조사하였다. 제조사는 \"합격 원두(dark)\"의 무게를 120g라고 표기하였다. 나커피 유튜버는 이 주장이 사실인지 확인하기 위해 상품의 무게를 측정하였다. 다음은 30개의 상품 샘플의 무게 측정 결과다. 이 측정 결과를 바탕으로 제조사의 주장인 상품의 무게(120g)가 사실인지 검정해보시오. (데이터는 정규분포를 따른다고 가정한다.)\n",
        "- 귀무가설: μ = μ0, \"합격 원두(dark)\" 상품의 평균 무게는 120g이다.\n",
        "- 대립가설: μ ≠ μ0, \"합격 원두(dark)\" 상품의 평균 무게는 120g 아니다."
      ],
      "metadata": {
        "id": "ssL4kI2uPwr0"
      }
    },
    {
      "cell_type": "markdown",
      "source": [
        "- μ(뮤): 현재 조사하려는 상품의 실제 평균 무게\n",
        "-\n",
        "μ0(뮤 제로): 제조사가 주장하는 상품의 평균 무게(120g)"
      ],
      "metadata": {
        "id": "D2J9WVRCWICD"
      }
    },
    {
      "cell_type": "markdown",
      "source": [
        "## 1. 기초"
      ],
      "metadata": {
        "id": "-TDdNI3J_IIq"
      }
    },
    {
      "cell_type": "code",
      "source": [
        "import pandas as pd\n",
        "df = pd.DataFrame({\n",
        "    '무게':[119, 121, 121, 119, 125, 115, 121, 118, 117, 127,\n",
        "           123, 129, 119, 124, 114, 126, 122, 124, 121, 116,\n",
        "           123, 123, 127, 118, 122, 117, 124, 125, 123, 121],\n",
        "})"
      ],
      "metadata": {
        "id": "gHct5U3M4ba7"
      },
      "execution_count": 1,
      "outputs": []
    },
    {
      "cell_type": "markdown",
      "source": [
        "### 단일표본검정\n",
        "- 하나의 집단에 대한 표본평균이 예측된 평균과 같은지 여부를 검정.\n",
        "- 하나의 집단에 대한 표본평균과 새롭게 수집된 데이터의 예측된 평균이 같은지 여부를 검정\n",
        "\n",
        "- 양측검정: 기존에 알려진 사실보다 크거나 작음에 대해 모두 검정하는 것\n",
        "- 단측검정: ex) 120g 보다 작다. 크다."
      ],
      "metadata": {
        "id": "Xy5Ry7QeX4g6"
      }
    },
    {
      "cell_type": "code",
      "source": [
        "# 단일표본검정\n",
        "from scipy import stats\n",
        "\n",
        "# stats.ttest_1samp(실제값=관측값, 모집단평균)\n",
        "stats.ttest_1samp(df['무게'], 120)\n",
        "\n",
        "# 검정통계량: 2.153709967150663 -> 크면 두 집단 간의 평균 차이가 크고, 통계척으로 유의미한 차이가 있다고 해석\n",
        "# pvalue: 0.03970987897788578\n",
        "# df: 29 -> 자유도: 관측치-1\n",
        "# 결과: pvalue가 0.05 유의수준보다 작기 때문에 귀무가설 기각, 대립가설 채택 평균의 무게는 120g이 아니다."
      ],
      "metadata": {
        "id": "-IGYGrTy4bkz",
        "colab": {
          "base_uri": "https://localhost:8080/"
        },
        "outputId": "ae9164d6-a68c-4f4a-df43-4c60037503c8"
      },
      "execution_count": 6,
      "outputs": [
        {
          "output_type": "execute_result",
          "data": {
            "text/plain": [
              "TtestResult(statistic=2.153709967150663, pvalue=0.03970987897788578, df=29)"
            ]
          },
          "metadata": {},
          "execution_count": 6
        }
      ]
    },
    {
      "cell_type": "code",
      "source": [
        "# 코랩 사이파이 버전 (시험환경 1.7)\n",
        "import scipy\n",
        "print(scipy.__version__) # 1.11.4"
      ],
      "metadata": {
        "id": "54wofQy86caP",
        "colab": {
          "base_uri": "https://localhost:8080/"
        },
        "outputId": "e34f3bfe-335a-400f-829f-4a3c664af525"
      },
      "execution_count": 7,
      "outputs": [
        {
          "output_type": "stream",
          "name": "stdout",
          "text": [
            "1.11.4\n"
          ]
        }
      ]
    },
    {
      "cell_type": "code",
      "source": [
        "# 대립가설: 합격 원두(dark)\" 상품의 평균 무게는 120g 아니다. -> 양측검정\n",
        "stats.ttest_1samp(df['무게'], 120, alternative='two-sided')\n",
        "\n",
        "# 검정통계량: 2.153709967150663\n",
        "# pvalue: 0.03970987897788578\n",
        "# 결과: pvalue가 0.039로 유의수준 0.05보다 작으므로 귀무가설 기각. 상품의 평균 무게는 120g 아님"
      ],
      "metadata": {
        "id": "znbNQA9g7FTm",
        "colab": {
          "base_uri": "https://localhost:8080/"
        },
        "outputId": "7caad5f1-1a06-4e8f-a5ee-6ee8a23929a5"
      },
      "execution_count": 8,
      "outputs": [
        {
          "output_type": "execute_result",
          "data": {
            "text/plain": [
              "TtestResult(statistic=2.153709967150663, pvalue=0.03970987897788578, df=29)"
            ]
          },
          "metadata": {},
          "execution_count": 8
        }
      ]
    },
    {
      "cell_type": "code",
      "source": [
        "# 대립가설: 합격 원두(dark)\" 상품의 평균 무게는 120g 보다 크다 -> 단측검정\n",
        "stats.ttest_1samp(df['무게'], 120, alternative='greater')\n",
        "\n",
        "# 검정통계량: 2.153709967150663\n",
        "# pvalue: 0.01985493948894289\n",
        "# 결과: pvalue가 0.019로 유의수준 0.05보다 작으므로 귀무가설 기각. 상품의 평균 무게는 120g보다 크다."
      ],
      "metadata": {
        "id": "CQKrpzJ07FV_",
        "colab": {
          "base_uri": "https://localhost:8080/"
        },
        "outputId": "77f352b2-5414-4edd-b890-cf9e85b4e503"
      },
      "execution_count": 11,
      "outputs": [
        {
          "output_type": "execute_result",
          "data": {
            "text/plain": [
              "TtestResult(statistic=2.153709967150663, pvalue=0.01985493948894289, df=29)"
            ]
          },
          "metadata": {},
          "execution_count": 11
        }
      ]
    },
    {
      "cell_type": "code",
      "source": [
        "# 대립가설: 합격 원두(dark)\" 상품의 평균 무게는 120g 보다 작다 -> 단측검정\n",
        "stats.ttest_1samp(df['무게'], 120, alternative='less')\n",
        "\n",
        "# 검정통계량: 2.153709967150663\n",
        "# pvalue: 0.9801450605110571\n",
        "# 결과: pvalue가 0.98 유의수준 0.05보다 크므로 귀무가설 채택. 상품의 평균 무게는 120g보다 작지않다."
      ],
      "metadata": {
        "id": "gHfAnVzr7FYV",
        "colab": {
          "base_uri": "https://localhost:8080/"
        },
        "outputId": "ba573fe7-46ba-4020-88b9-d2e88af6c31d"
      },
      "execution_count": 12,
      "outputs": [
        {
          "output_type": "execute_result",
          "data": {
            "text/plain": [
              "TtestResult(statistic=2.153709967150663, pvalue=0.9801450605110571, df=29)"
            ]
          },
          "metadata": {},
          "execution_count": 12
        }
      ]
    },
    {
      "cell_type": "markdown",
      "source": [
        "## 2. 심화\n",
        "- 정규분포를 따르는지 안따르는지 모르는 경우\n"
      ],
      "metadata": {
        "id": "bgT0JC1dMt_Z"
      }
    },
    {
      "cell_type": "code",
      "source": [
        "# 데이터 (정규성에 만족하지 않게 일부 변경)\n",
        "import pandas as pd\n",
        "df = pd.DataFrame({\n",
        "    '무게':[219, 121, 121, 119, 125, 115, 121, 118, 117, 127,\n",
        "           123, 129, 119, 124, 114, 126, 122, 124, 121, 116,\n",
        "           123, 123, 127, 118, 122, 117, 124, 125, 123, 121],\n",
        "})"
      ],
      "metadata": {
        "id": "2QrYQl3e7Fa8"
      },
      "execution_count": 14,
      "outputs": []
    },
    {
      "cell_type": "markdown",
      "source": [
        "### Shapiro-Wilk 검정\n",
        "- 귀무가설 (H0): 주어진 데이터 샘플은 정규 분포를 따른다.\n",
        "- 대립가설(H1): 주어진 데이터 샘플은 정규 분포를 따르지 않는다."
      ],
      "metadata": {
        "id": "Jnff_h_iW4gt"
      }
    },
    {
      "cell_type": "code",
      "source": [
        "# Shapiro-Wilk(샤피로-윌크) 정규성 검정\n",
        "from scipy import stats\n",
        "\n",
        "stats.shapiro(df['무게'])\n",
        "\n",
        "# statistic=0.3572896718978882\n",
        "# pvalue=2.2139254318709334e-10 -> 0.00000000022\n",
        "# 결과: pvalue가 0.05를 넘기지 않기 때문에 귀무가설 채택"
      ],
      "metadata": {
        "id": "Y023nW1Y4biR",
        "colab": {
          "base_uri": "https://localhost:8080/"
        },
        "outputId": "fd0c4604-960d-4fc5-be32-f5028e200a2c"
      },
      "execution_count": 24,
      "outputs": [
        {
          "output_type": "execute_result",
          "data": {
            "text/plain": [
              "ShapiroResult(statistic=0.3572896718978882, pvalue=2.2139254318709334e-10)"
            ]
          },
          "metadata": {},
          "execution_count": 24
        }
      ]
    },
    {
      "cell_type": "code",
      "source": [
        "# 지수표기법 변경\n",
        "print('{:.11f}'.format(2.2139254318709334e-10)) # 0.00000000022"
      ],
      "metadata": {
        "id": "zd8kn8YjfuIx",
        "colab": {
          "base_uri": "https://localhost:8080/"
        },
        "outputId": "fc8a262d-80ca-483f-9388-0c9ef88c369f"
      },
      "execution_count": 25,
      "outputs": [
        {
          "output_type": "stream",
          "name": "stdout",
          "text": [
            "0.00000000022\n"
          ]
        }
      ]
    },
    {
      "cell_type": "markdown",
      "source": [
        "### Wilcoxon 검정 (비모수 검정)\n",
        "- 정규분포를 따르지 않는 경우 비모수검정 진행\n",
        "- 귀무가설 (H0): μ = μ0, \"합격 원두(dark)\" 상품의 중앙값 무게는 120g이다.\n",
        "- 대립가설(H1): μ < μ0, \"합격 원두(dark)\" 상품의 중앙값 무게는 120g 보다 작다\n",
        "\n",
        "(추가) 비모수 검정: 평균 -> 중앙값으로 변경 (중앙값도 평균값이라 동일하다고 하겠습니다.)"
      ],
      "metadata": {
        "id": "N8B2jXYSXwvN"
      }
    },
    {
      "cell_type": "code",
      "source": [
        "# Wilcoxon(윌콕슨)의 부호 순위 검정 수행\n",
        "from scipy import stats\n",
        "\n",
        "stats.wilcoxon(df['무게'] - 120 , alternative='less')"
      ],
      "metadata": {
        "id": "TphKGRdH4bni",
        "colab": {
          "base_uri": "https://localhost:8080/"
        },
        "outputId": "6018a401-bbdf-42eb-b25e-1e80947e8648"
      },
      "execution_count": 26,
      "outputs": [
        {
          "output_type": "execute_result",
          "data": {
            "text/plain": [
              "WilcoxonResult(statistic=341.0, pvalue=0.9882949283346534)"
            ]
          },
          "metadata": {},
          "execution_count": 26
        }
      ]
    },
    {
      "cell_type": "code",
      "source": [],
      "metadata": {
        "id": "o1CLTtXHIOax"
      },
      "execution_count": 23,
      "outputs": []
    },
    {
      "cell_type": "markdown",
      "source": [
        "# 대응표본검정"
      ],
      "metadata": {
        "id": "zS_wjdjeVYFo"
      }
    },
    {
      "cell_type": "markdown",
      "source": [
        "퇴근후딴짓 크리에이터는 수험생의 점수 향상을 위해 새로운 교육 프로그램을 도입했다. 도입 전과 도입 후의 점수 차이를 확인하기 위해 동일한 수험생의 점수를 비교하였습니다. 다음은 교육 전과 후의 점수 데이터이다. 새로운 교육 프로그램이 효과가 있는지 검정하시오.(데이터는 정규분포를 따른다고 가정한다.)\n",
        "\n",
        "μ<sub>d</sub> = (before – after)의 평균\n",
        "\n",
        "- 귀무가설: μ<sub>d</sub> ≥ 0, 새로운 교육 프로그램은 효과가 없다.\n",
        "- 대립가설: μ<sub>d</sub> < 0, 새로운 교육 프로그램은 효과가 있다.\n",
        "\n"
      ],
      "metadata": {
        "id": "Tc9ROgXKUtV8"
      }
    },
    {
      "cell_type": "markdown",
      "source": [
        "## 1. 기초"
      ],
      "metadata": {
        "id": "kdKpcpA_qc4-"
      }
    },
    {
      "cell_type": "code",
      "source": [
        "# 데이터\n",
        "import pandas as pd\n",
        "df = pd.DataFrame({\n",
        "    'before':[85,90,92,88,86,89,83,87,65,50],\n",
        "    'after':[88,89,96,89,85,88,85,89,78,61]\n",
        "})"
      ],
      "metadata": {
        "id": "fZ0AUIzX0wFH"
      },
      "execution_count": null,
      "outputs": []
    },
    {
      "cell_type": "markdown",
      "source": [
        "### 대응표본검정"
      ],
      "metadata": {
        "id": "LsHDDj3qkD6c"
      }
    },
    {
      "cell_type": "code",
      "source": [
        "# 대응표본검정\n"
      ],
      "metadata": {
        "id": "41KwCmrynZNV"
      },
      "execution_count": null,
      "outputs": []
    },
    {
      "cell_type": "markdown",
      "source": [
        "μ<sub>d</sub> = (after - before)의 평균\n",
        "- 귀무가설: μ<sub>d</sub> ≤ 0\n",
        "- 대립가설: μ<sub>d</sub> > 0"
      ],
      "metadata": {
        "id": "CCDPYNR_SwiT"
      }
    },
    {
      "cell_type": "code",
      "source": [
        "# 대응표본검정\n"
      ],
      "metadata": {
        "id": "C3L2GsbDnaDw"
      },
      "execution_count": null,
      "outputs": []
    },
    {
      "cell_type": "markdown",
      "source": [
        "## 2. 심화"
      ],
      "metadata": {
        "id": "juH19gbLp9M_"
      }
    },
    {
      "cell_type": "code",
      "source": [
        "# 데이터\n",
        "import pandas as pd\n",
        "df = pd.DataFrame({\n",
        "    'before':[85,90,92,88,86,89,83,87,65,50],\n",
        "    'after':[88,89,96,89,85,88,85,89,78,61]\n",
        "})"
      ],
      "metadata": {
        "id": "yeQu5su4p1mG"
      },
      "execution_count": null,
      "outputs": []
    },
    {
      "cell_type": "markdown",
      "source": [
        "μ<sub>d</sub> = (after - before)의 평균\n",
        "- 귀무가설: μ<sub>d</sub> ≤ 0\n",
        "- 대립가설: μ<sub>d</sub> > 0"
      ],
      "metadata": {
        "id": "nC7X7I0bT3ir"
      }
    },
    {
      "cell_type": "markdown",
      "source": [
        "### Shapiro-Wilk 검정"
      ],
      "metadata": {
        "id": "Oyt1zu1ijtL0"
      }
    },
    {
      "cell_type": "code",
      "source": [
        "# Shapiro-Wilk(샤피로-윌크) 정규성 검정\n"
      ],
      "metadata": {
        "id": "3a4x-qTknaIr"
      },
      "execution_count": null,
      "outputs": []
    },
    {
      "cell_type": "markdown",
      "source": [
        "### Wilcoxon 검정 (비모수 검정)"
      ],
      "metadata": {
        "id": "Yd51YGEDjm12"
      }
    },
    {
      "cell_type": "code",
      "source": [
        "# Wilcoxon(윌콕슨)의 부호 순위 검정 수행\n"
      ],
      "metadata": {
        "id": "jQPHzg9CK8Oj"
      },
      "execution_count": null,
      "outputs": []
    },
    {
      "cell_type": "code",
      "source": [
        "# Wilcoxon(윌콕슨)의 부호 순위 검정 수행 (diff)\n"
      ],
      "metadata": {
        "id": "X2VJ22P_ptux"
      },
      "execution_count": null,
      "outputs": []
    },
    {
      "cell_type": "code",
      "source": [],
      "metadata": {
        "id": "RrhL1kJET-97"
      },
      "execution_count": null,
      "outputs": []
    },
    {
      "cell_type": "markdown",
      "source": [
        "# 독립표본검정\n",
        "- 두 그룹의 차이를 통계적으로 검증\n",
        "- 두 그룹의 분산이 같은지 다른지 확인해야 함 (python 기본은 분산이 같다임)"
      ],
      "metadata": {
        "id": "BYU2nuhzMm6r"
      }
    },
    {
      "cell_type": "markdown",
      "source": [
        "다음은 빅데이터 분석기사 실기 시험 점수이다. A그룹과 B그룹의 평균 점수가 차이가 있는지 유의수준 0.05하에서 가설 검정하시오.\n",
        "(데이터는 정규분포를 따르고 분산이 동일하다고 가정한다.)\n",
        "- 귀무가설(H0): 그룹별 시험 평균 점수는 차이가 없다. (μ1 = μ2)\n",
        "- 대립가설(H1): 그룹별 시험 평균 점수는 차이가 있다. (μ1 ≠ μ2)"
      ],
      "metadata": {
        "id": "EtVcv6ysUt1W"
      }
    },
    {
      "cell_type": "markdown",
      "source": [
        "## 1. 기초"
      ],
      "metadata": {
        "id": "3bxwaHM2Uq0g"
      }
    },
    {
      "cell_type": "code",
      "source": [
        "# 데이터 - 길이가 다를 수 있음\n",
        "A = [85, 90, 92, 88, 86, 89, 83, 87,\n",
        "     84, 50, 60, 39, 28, 48, 38, 28]\n",
        "B = [82, 82, 88, 85, 84, 74, 79, 69,\n",
        "     78, 76, 85, 84, 79, 89]"
      ],
      "metadata": {
        "id": "El6O2uwYBeLc"
      },
      "execution_count": null,
      "outputs": []
    },
    {
      "cell_type": "markdown",
      "source": [
        "### 독립표본검정"
      ],
      "metadata": {
        "id": "4am7ta59kGKJ"
      }
    },
    {
      "cell_type": "code",
      "source": [
        "# 독립표본검정\n",
        "from scipy import stats\n",
        "\n",
        "# print(help(stats.ttest_ind))\n",
        "\n",
        "# 처리를 하지 않고 차이만 물어본다면 데이터 순서대로 넣음\n",
        "# 처리를 했다하면 (처리집단, 대조집단) 순으로 넣음\n",
        "# (처리집단 : 새로운것 적용한 집단, 대조집단 : 아무것도 적용 안한 집단)\n",
        "stats.ttest_ind(A, B)\n",
        "\n",
        "# TtestResult(statistic=-2.051813915505951, pvalue=0.04964542271174967, df=28.0)\n",
        "# -> pvalue가 0.05 보다 작기 때문에 귀무가설 기각, 대립가설 채택 -> 결론 : 차이가 있다"
      ],
      "metadata": {
        "id": "IJBApyCeM0yk",
        "colab": {
          "base_uri": "https://localhost:8080/"
        },
        "outputId": "ff396e78-b6be-4831-e7d8-09a675730ac9"
      },
      "execution_count": null,
      "outputs": [
        {
          "output_type": "execute_result",
          "data": {
            "text/plain": [
              "TtestResult(statistic=-2.051813915505951, pvalue=0.04964542271174967, df=28.0)"
            ]
          },
          "metadata": {},
          "execution_count": 6
        }
      ]
    },
    {
      "cell_type": "code",
      "source": [],
      "metadata": {
        "id": "8hyzm9_kZf9J"
      },
      "execution_count": null,
      "outputs": []
    },
    {
      "cell_type": "code",
      "source": [],
      "metadata": {
        "id": "G3tsoxFCZa4v"
      },
      "execution_count": null,
      "outputs": []
    },
    {
      "cell_type": "code",
      "source": [],
      "metadata": {
        "id": "eV2PBfPfZZvr"
      },
      "execution_count": null,
      "outputs": []
    },
    {
      "cell_type": "markdown",
      "source": [
        "### 등분산\n",
        "- 두 그룹의 분산이 같은지 다른지 확인해야 함\n",
        "- python default : equal_var = False 기본은 분산이 같다임"
      ],
      "metadata": {
        "id": "fWGTgRAniIGN"
      }
    },
    {
      "cell_type": "code",
      "source": [
        "# 두 집단의 분산이 다르다(equal_var=False)\n",
        "from scipy import stats\n",
        "\n",
        "stats.ttest_ind(A, B, equal_var=False)"
      ],
      "metadata": {
        "id": "jDFDL5fJM7Cu",
        "colab": {
          "base_uri": "https://localhost:8080/"
        },
        "outputId": "3ead9b3e-a92a-4d68-ad3f-0877280315cc"
      },
      "execution_count": null,
      "outputs": [
        {
          "output_type": "execute_result",
          "data": {
            "text/plain": [
              "TtestResult(statistic=-2.1837307810153024, pvalue=0.04352730399590312, df=16.729279968729678)"
            ]
          },
          "metadata": {},
          "execution_count": 9
        }
      ]
    },
    {
      "cell_type": "code",
      "source": [],
      "metadata": {
        "id": "ER1m-0qrakTB"
      },
      "execution_count": null,
      "outputs": []
    },
    {
      "cell_type": "markdown",
      "source": [
        "- 귀무가설(H0): 그룹별 시험 평균 점수는 차이가 없다. (μ1 = μ2)\n",
        "- 대립가설(H1): B그룹 시험 평균 점수가 더 높다. (μ1 < μ2)"
      ],
      "metadata": {
        "id": "AFgCWUWxhwm_"
      }
    },
    {
      "cell_type": "code",
      "source": [
        "# 독립표본검정(less)\n",
        "from scipy import stats\n",
        "\n",
        "stats.ttest_ind(A, B, equal_var=True, alternative='less')"
      ],
      "metadata": {
        "id": "ESY4fIAWNL7Y",
        "colab": {
          "base_uri": "https://localhost:8080/"
        },
        "outputId": "ee9b76ec-9c45-41bc-d036-cfa33bf8f158"
      },
      "execution_count": null,
      "outputs": [
        {
          "output_type": "execute_result",
          "data": {
            "text/plain": [
              "TtestResult(statistic=-2.051813915505951, pvalue=0.024822711355874834, df=28.0)"
            ]
          },
          "metadata": {},
          "execution_count": 11
        }
      ]
    },
    {
      "cell_type": "markdown",
      "source": [
        "- 귀무가설(H0): 그룹별 시험 평균 점수는 차이가 없다. (μ1 = μ2)\n",
        "- 대립가설(H1): A그룹 시험 평균 점수가 더 높다. (μ1 > μ2)"
      ],
      "metadata": {
        "id": "syRREwRbh8vG"
      }
    },
    {
      "cell_type": "code",
      "source": [
        "# 독립표본검정(greater)\n",
        "from scipy import stats\n",
        "\n",
        "stats.ttest_ind(A, B, equal_var=True, alternative='greater') # 귀무가설 채택"
      ],
      "metadata": {
        "id": "ASqJKMOgNRcH",
        "colab": {
          "base_uri": "https://localhost:8080/"
        },
        "outputId": "af446eb1-e9e1-4843-ef75-8be8d5901168"
      },
      "execution_count": null,
      "outputs": [
        {
          "output_type": "execute_result",
          "data": {
            "text/plain": [
              "TtestResult(statistic=-2.051813915505951, pvalue=0.9751772886441252, df=28.0)"
            ]
          },
          "metadata": {},
          "execution_count": 13
        }
      ]
    },
    {
      "cell_type": "markdown",
      "source": [
        "## 2. 심화"
      ],
      "metadata": {
        "id": "0r1CD7XudcEJ"
      }
    },
    {
      "cell_type": "code",
      "source": [
        "# 데이터\n",
        "import pandas as pd\n",
        "A = [85, 90, 92, 88, 86, 89, 83, 87,\n",
        "     84, 50, 60, 39, 28, 48, 38, 28]\n",
        "B = [82, 82, 88, 85, 84, 74, 79, 69,\n",
        "     78, 76, 85, 84, 79, 89]"
      ],
      "metadata": {
        "id": "NqFJ4Um9dfEy"
      },
      "execution_count": null,
      "outputs": []
    },
    {
      "cell_type": "markdown",
      "source": [
        "### Shapiro-Wilk 검정\n",
        "- 독립표본에선 두 그룹 각각 검증"
      ],
      "metadata": {
        "id": "h8XH1IIojwQi"
      }
    },
    {
      "cell_type": "code",
      "source": [
        "# Shapiro-Wilk(샤피로-윌크) 정규성 검정\n",
        "from scipy import stats\n",
        "\n",
        "print(stats.shapiro(A)) # 귀무가설 기각 - 정규성분포 불만족 -> 비모수 검정으로\n",
        "print(stats.shapiro(B)) # 귀무가설 채택 - 정규성분포 만족"
      ],
      "metadata": {
        "id": "hFjt4PtKikLh",
        "colab": {
          "base_uri": "https://localhost:8080/"
        },
        "outputId": "57ebd776-a7cc-4018-fbbc-10a2f35b0b37"
      },
      "execution_count": null,
      "outputs": [
        {
          "output_type": "stream",
          "name": "stdout",
          "text": [
            "ShapiroResult(statistic=0.8128696084022522, pvalue=0.004057693760842085)\n",
            "ShapiroResult(statistic=0.9610027074813843, pvalue=0.7395777702331543)\n"
          ]
        }
      ]
    },
    {
      "cell_type": "markdown",
      "source": [
        "### Levene 검정\n",
        "- shapiro 검정에서 두 집단이 정규성분포를 만족하는 경우"
      ],
      "metadata": {
        "id": "TQuQbIPBjxN7"
      }
    },
    {
      "cell_type": "code",
      "source": [
        "# Levene(레빈) 등분산 검정 (귀무가설: 분산이 동일하다)\n",
        "stats.levene(A, B) # 0.05보다 작으므로 귀무가설 기각 -> 분산이 다르다"
      ],
      "metadata": {
        "id": "TCqI_1gndfJ3",
        "colab": {
          "base_uri": "https://localhost:8080/"
        },
        "outputId": "5ce2f334-3324-4199-f10b-a92e847bd8c1"
      },
      "execution_count": null,
      "outputs": [
        {
          "output_type": "execute_result",
          "data": {
            "text/plain": [
              "LeveneResult(statistic=8.013957643762076, pvalue=0.008497116974003)"
            ]
          },
          "metadata": {},
          "execution_count": 18
        }
      ]
    },
    {
      "cell_type": "markdown",
      "source": [
        "### 독립표본검정"
      ],
      "metadata": {
        "id": "6oXR4Py4lzDu"
      }
    },
    {
      "cell_type": "markdown",
      "source": [
        "- 귀무가설(H0): 그룹별 시험 평균 점수는 차이가 없다. (μ1 = μ2)\n",
        "- 대립가설(H1): B그룹 시험 평균 점수가 더 높다. (μ1 < μ2)"
      ],
      "metadata": {
        "id": "xVrp-5T5KsyG"
      }
    },
    {
      "cell_type": "code",
      "source": [
        "# 독립표본검정\n",
        "stats.ttest_ind(A, B, equal_var=False, alternative='less')"
      ],
      "metadata": {
        "id": "Kimci0kWdfMb",
        "colab": {
          "base_uri": "https://localhost:8080/"
        },
        "outputId": "d026e271-f308-48a0-c257-fce16556c376"
      },
      "execution_count": null,
      "outputs": [
        {
          "output_type": "execute_result",
          "data": {
            "text/plain": [
              "TtestResult(statistic=-2.1837307810153024, pvalue=0.02176365199795156, df=16.729279968729678)"
            ]
          },
          "metadata": {},
          "execution_count": 19
        }
      ]
    },
    {
      "cell_type": "code",
      "source": [],
      "metadata": {
        "id": "oYRCmYeCi9kJ"
      },
      "execution_count": null,
      "outputs": []
    },
    {
      "cell_type": "markdown",
      "source": [
        "### Mann-Whitney U 검정 (비모수 검정)"
      ],
      "metadata": {
        "id": "GQityTjdjHiD"
      }
    },
    {
      "cell_type": "markdown",
      "source": [
        "- 귀무가설(H0): 그룹별 시험 중앙값 점수는 차이가 없다. (μ1 = μ2)\n",
        "- 대립가설(H1): B그룹 시험 중앙값 점수가 더 높다. (μ1 < μ2)\n",
        "\n",
        "(추가) 비모수 검정: 평균 -> 중앙값으로 변경 (중앙값도 평균값이라 동일하다고 하겠습니다.)"
      ],
      "metadata": {
        "id": "jk0zoZgPKq8Z"
      }
    },
    {
      "cell_type": "code",
      "source": [
        "# Mann-Whitney U(만-휘트니 유) 검정\n",
        "from scipy import stats\n",
        "\n",
        "stats.mannwhitneyu(A, B, alternative='less') # 귀무가설 채택"
      ],
      "metadata": {
        "id": "-b36JAVvfUeN",
        "colab": {
          "base_uri": "https://localhost:8080/"
        },
        "outputId": "9c85fc13-eb0f-4b64-d61d-66310cc4b4f5"
      },
      "execution_count": null,
      "outputs": [
        {
          "output_type": "execute_result",
          "data": {
            "text/plain": [
              "MannwhitneyuResult(statistic=106.0, pvalue=0.40944636368515097)"
            ]
          },
          "metadata": {},
          "execution_count": 16
        }
      ]
    },
    {
      "cell_type": "code",
      "source": [],
      "metadata": {
        "id": "1D1vDxze5DaW"
      },
      "execution_count": null,
      "outputs": []
    }
  ]
}