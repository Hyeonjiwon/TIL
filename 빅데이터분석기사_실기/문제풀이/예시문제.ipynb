{
  "cells": [
    {
      "cell_type": "markdown",
      "metadata": {
        "id": "MfUEQk18w4BO"
      },
      "source": [
        "### 작업형1 예시문제\n",
        "- 자동차 데이터 셋에서 qsec 컬럼을 Min-Max Scale로 변환 후 0.5보다 큰 값을 가지는 레코드(row) 수는?"
      ]
    },
    {
      "cell_type": "code",
      "execution_count": 7,
      "metadata": {
        "colab": {
          "base_uri": "https://localhost:8080/"
        },
        "id": "VX7UdOxHw0Gh",
        "outputId": "50488828-8a30-45c1-f151-2ba57e9d3066"
      },
      "outputs": [
        {
          "name": "stdout",
          "output_type": "stream",
          "text": [
            "0    16.46\n",
            "1    17.02\n",
            "2    18.61\n",
            "3    19.44\n",
            "4    17.02\n",
            "Name: qsec, dtype: float64\n",
            "0    0.233333\n",
            "1    0.300000\n",
            "2    0.489286\n",
            "3    0.588095\n",
            "4    0.300000\n",
            "Name: qsec, dtype: float64\n",
            "9\n"
          ]
        }
      ],
      "source": [
        "import pandas as pd\n",
        "\n",
        "df = pd.read_csv(\"mtcars.csv\")\n",
        "\n",
        "print(df['qsec'].head())\n",
        "# 사용자 코딩\n",
        "from sklearn.preprocessing import MinMaxScaler\n",
        "\n",
        "sc = MinMaxScaler()\n",
        "df['qsec'] = sc.fit_transform(df[['qsec']])\n",
        "\n",
        "print(df['qsec'].head())\n",
        "\n",
        "cond = df['qsec'] > 0.5\n",
        "\n",
        "print(sum(cond)) # 9"
      ]
    },
    {
      "cell_type": "markdown",
      "metadata": {
        "id": "Dl_2_VKr-LnU"
      },
      "source": [
        "- len: 행의 수\n",
        "- count(): NaN이 아닌 (컬럼별) 행의 수\n",
        "- sum(): True(1)값을 더했기 때문에 조건문에 따라 달라짐"
      ]
    },
    {
      "cell_type": "code",
      "execution_count": null,
      "metadata": {
        "id": "QQauAPvZ-KRO"
      },
      "outputs": [],
      "source": []
    },
    {
      "cell_type": "markdown",
      "metadata": {
        "id": "dpiz8RgHw2p-"
      },
      "source": [
        "### 2번"
      ]
    },
    {
      "cell_type": "code",
      "execution_count": null,
      "metadata": {
        "id": "Iv6Jrr87w1WL"
      },
      "outputs": [],
      "source": [
        "# 출력을 원하실 경우 print() 함수 활용\n",
        "# 예시) print(df.head())\n",
        "\n",
        "# getcwd(), chdir() 등 작업 폴더 설정 불필요\n",
        "# 파일 경로 상 내부 드라이브 경로(C: 등) 접근 불가\n",
        "\n",
        "import pandas as pd\n",
        "\n",
        "pd.set_option('display.max_columns', None)\n",
        "\n",
        "train = pd.read_csv(\"data/customer_train.csv\")\n",
        "test = pd.read_csv(\"data/customer_test.csv\")\n",
        "\n",
        "# 사용자 코딩\n",
        "# 1. EDA\n",
        "# print(train.shape)\n",
        "# print(test.shape)\n",
        "\n",
        "# print(train.info()) # float64(3), int64(6), object(2)\n",
        "# print(test.info()) # float64(3), int64(5), object(2)\n",
        "\n",
        "# print(train.head(5))\n",
        "# print(train.isnull().sum()) # 환불금액       2295\n",
        "# print(test.isnull().sum()) # 환불금액       1611\n",
        "\n",
        "# 2. 결측치 처리, 피처 엔지니어링\n",
        "# target = train.pop('성별')\n",
        "target = train.pop('성별')\n",
        "\n",
        "train = train.drop('회원ID', axis=1)\n",
        "test_id = test.pop('회원ID')\n",
        "\n",
        "train['환불금액'] = train['환불금액'].fillna(0)\n",
        "test['환불금액'] = test['환불금액'].fillna(0)\n",
        "\n",
        "from sklearn.preprocessing import MinMaxScaler\n",
        "cols = train.select_dtypes(exclude='O').columns\n",
        "\n",
        "scaler = MinMaxScaler()\n",
        "train[cols] = scaler.fit_transform(train[cols])\n",
        "test[cols] = scaler.transform(test[cols])\n",
        "\n",
        "cols = train.select_dtypes(include='O').columns\n",
        "# print(cols)\n",
        "# print(set(train[cols]) == set(test[cols]))\n",
        "# print(train[cols].nunique()) # 주구매상품    42 / 주구매지점    24\n",
        "# print(test[cols].nunique()) # 주구매상품    41 / 주구매지점    24\n",
        "\n",
        "# train = train.drop(cols, axis=1)\n",
        "# test = test.drop(cols, axis=1)\n",
        "# print(train.shape)\n",
        "# print(test.shape)\n",
        "\n",
        "from sklearn.preprocessing import LabelEncoder\n",
        "\n",
        "for col in cols:\n",
        "\tle = LabelEncoder()\n",
        "\ttrain[col] = le.fit_transform(train[col])\n",
        "\ttest[col] = le.transform(test[col])\n",
        "\n",
        "# print(train.shape)\n",
        "# print(test.shape)\n",
        "\n",
        "# 3. train/test 나누기\n",
        "from sklearn.model_selection import train_test_split\n",
        "\n",
        "X_tr, X_val, y_tr, y_val = train_test_split(train, target, test_size=0.2, random_state=12)\n",
        "# print(X_tr.shape, X_val.shape, y_tr.shape, y_val.shape)\n",
        "\n",
        "# 4. 모델 선택 학습 예측\n",
        "from sklearn.ensemble import RandomForestClassifier\n",
        "\n",
        "model = RandomForestClassifier(random_state=12)\n",
        "model.fit(X_tr, y_tr)\n",
        "pred = model.predict_proba(X_val)\n",
        "# print(pred[:,1])\n",
        "# print(help(RandomForestClassifier.predict_proba))\n",
        "\n",
        "# 5. 평가\n",
        "from sklearn.metrics import roc_auc_score\n",
        "# print(roc_auc_score(y_val, pred[:,1]))\n",
        "# base line 0.596748188405797\n",
        "# label encoder 0.6278170289855072\n",
        "# label + minmax 0.6346195652173914\n",
        "\n",
        "# 6. csv 생성\n",
        "pred = model.predict_proba(test)\n",
        "submit = pd.DataFrame({\n",
        "\t'pred': pred[:,1]\n",
        "})\n",
        "\n",
        "# print(submit.shape)\n",
        "# print(submit.head())\n",
        "\n",
        "submit.to_csv('result.csv', index=False)\n",
        "\n",
        "# tt = pd.read_csv('result.csv')\n",
        "# print(tt.head(5))\n",
        "# 답안 제출 참고\n",
        "# 아래 코드는 예시이며 변수명 등 개인별로 변경하여 활용\n",
        "# pd.DataFrame변수.to_csv(\"result.csv\", index=False)\n",
        "\n"
      ]
    },
    {
      "cell_type": "markdown",
      "metadata": {
        "id": "Sdyw-P0E01F8"
      },
      "source": [
        "### 3번"
      ]
    },
    {
      "cell_type": "code",
      "execution_count": null,
      "metadata": {
        "id": "mtDGbLLr02DL"
      },
      "outputs": [],
      "source": [
        "# 출력을 원할 경우 print() 함수 활용\n",
        "# 예시) print(df.head())\n",
        "\n",
        "# getcwd(), chdir() 등 작업 폴더 설정 불필요\n",
        "# 파일 경로 상 내부 드라이브 경로(C: 등) 접근 불가\n",
        "\n",
        "import pandas as pd\n",
        "pd.set_option('display.max_columns', None)\n",
        "\n",
        "df = pd.read_csv(\"data/Titanic.csv\")\n",
        "# print(df.head())\n",
        "\n",
        "# 1번 Gender, Survived 변수 간의 독립성 검정, 카이제곱 검정 통계량\n",
        "# 독립성 검정 - 표 or 로우 데이터\n",
        "# print(df[['Gender', 'Survived']].head())\n",
        "\n",
        "# 개수를 센 후, 크로스 탭으로 만들기\n",
        "crosstab = pd.crosstab(df['Gender'], df['Survived'])\n",
        "# print(crosstab.head())\n",
        "\n",
        "# > Survived    0    1\n",
        "# Gender\n",
        "# female     81  233\n",
        "# male      468  109\n",
        "\n",
        "# 독립성 검정\n",
        "from scipy.stats import chi2_contingency\n",
        "# print(dir(scipy.stats))\n",
        "# print(chi2_contingency(crosstab))\n",
        "\n",
        "# 검정통계량: 260.71702016732104\n",
        "# pvalue: 1.1973570627755645e-58\n",
        "# (260.71702016732104, 1.1973570627755645e-58, 1, array([[193.47474747, 120.52525253], [355.52525253, 221.47474747]]))\n",
        "\n",
        "result = 260.71702016732104\n",
        "# print(round(result, 3))\n",
        "\n",
        "# 1번 답: 260.717\n",
        "\n",
        "# 2번 로지스틱 회귀모형(분류 모델) -> Parch 변수 계수 값\n",
        "cols = ['Gender', 'SibSp', 'Parch', 'Fare']\n",
        "# print(df[cols].head())\n",
        "\n",
        "from statsmodels.formula.api import logit\n",
        "\n",
        "model = logit('Survived ~ C(Gender) + SibSp + Parch + Fare', data=df).fit()\n",
        "# print(model.summary())\n",
        "\n",
        "# > Optimization terminated successfully.\n",
        "#          Current function value: 0.482065\n",
        "#          Iterations 6\n",
        "#                            Logit Regression Results\n",
        "# ==============================================================================\n",
        "# Dep. Variable:               Survived   No. Observations:                  891\n",
        "# Model:                          Logit   Df Residuals:                      886\n",
        "# Method:                           MLE   Df Model:                            4\n",
        "# Date:                Thu, 20 Jun 2024   Pseudo R-squ.:                  0.2761\n",
        "# Time:                        14:48:59   Log-Likelihood:                -429.52\n",
        "# converged:                       True   LL-Null:                       -593.33\n",
        "# Covariance Type:            nonrobust   LLR p-value:                 1.192e-69\n",
        "# =====================================================================================\n",
        "#                         coef    std err          z      P>|z|      [0.025      0.975]\n",
        "# -------------------------------------------------------------------------------------\n",
        "# Intercept             0.9466      0.169      5.590      0.000       0.615       1.279\n",
        "# C(Gender)[T.male]    -2.6422      0.186    -14.197      0.000      -3.007      -2.277\n",
        "# SibSp                -0.3539      0.098     -3.604      0.000      -0.546      -0.161\n",
        "# Parch                -0.2007      0.112     -1.792      0.073      -0.420       0.019\n",
        "# Fare                  0.0147      0.003      5.553      0.000       0.010       0.020\n",
        "# =====================================================================================\n",
        "\n",
        "# Parch의 계수: -0.2007\n",
        "# print(round(-0.2007, 3))\n",
        "# 2번 답: -0.201\n",
        "\n",
        "# 3번 로지스틱 회귀모형 SibSp 변수가 한 단위 증가할 때 생존할 오즈비(Odds ratio)\n",
        "import numpy as np\n",
        "# print(model.params['SibSp'])\n",
        "\n",
        "print(np.exp(model.params['SibSp']))\n",
        "print(round(np.exp(-0.35389193636174865), 3))\n",
        "print(round(np.exp(-0.3539), 3))\n",
        "\n",
        "# 3번 답: 0.702\n"
      ]
    },
    {
      "cell_type": "code",
      "execution_count": null,
      "metadata": {},
      "outputs": [],
      "source": [
        "# 1\n",
        "df['diff'] = df['bp_after'] - df['bp_before']\n",
        "result1 = df['diff'].mean()\n",
        "print(round(result1, 2))\n",
        "\n",
        "# 2 : 대응표본. 쌍체표본 ttest_rel, alternative 설정\n",
        "from scipy.stats import ttest_rel\n",
        "\n",
        "# 대립가설 기준으로 alternative 결정\n",
        "result = ttest_rel(df['bp_after'], df['bp_before'], alternative='less')\n",
        "\n",
        "print(result.statistic) # 검정통계량\n",
        "print(result.pvalue) # pvalue"
      ]
    }
  ],
  "metadata": {
    "colab": {
      "provenance": []
    },
    "kernelspec": {
      "display_name": "Python 3",
      "name": "python3"
    },
    "language_info": {
      "name": "python"
    }
  },
  "nbformat": 4,
  "nbformat_minor": 0
}
