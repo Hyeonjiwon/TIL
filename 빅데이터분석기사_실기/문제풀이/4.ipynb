{
  "nbformat": 4,
  "nbformat_minor": 0,
  "metadata": {
    "colab": {
      "provenance": []
    },
    "kernelspec": {
      "name": "python3",
      "display_name": "Python 3"
    },
    "language_info": {
      "name": "python"
    }
  },
  "cells": [
    {
      "cell_type": "markdown",
      "source": [
        "### 1"
      ],
      "metadata": {
        "id": "mjStDIuk4EdG"
      }
    },
    {
      "cell_type": "code",
      "source": [
        "import pandas as pd\n",
        "df = pd.read_csv(\"basic1.csv\")\n",
        "\n",
        "# print(df.describe())\n",
        "\n",
        "Q1 = df['age'].quantile(.25)\n",
        "Q3 = df['age'].quantile(.75)\n",
        "\n",
        "result = Q3 - Q1\n",
        "\n",
        "print(round(result))"
      ],
      "metadata": {
        "colab": {
          "base_uri": "https://localhost:8080/"
        },
        "id": "3XpFLBr3170H",
        "outputId": "d7776af3-c6c4-431c-e846-b71710e4f3e4"
      },
      "execution_count": 6,
      "outputs": [
        {
          "output_type": "stream",
          "name": "stdout",
          "text": [
            "50\n"
          ]
        }
      ]
    },
    {
      "cell_type": "code",
      "source": [
        "import pandas as pd\n",
        "df = pd.read_csv(\"fb.csv\")\n",
        "\n",
        "df['tmp'] = (df['loves'] + df['wows']) / df['reactions']\n",
        "\n",
        "cond1 = df['tmp'] > 0.4\n",
        "cond2 = df['tmp'] < 0.5\n",
        "cond3 = df['type'] == 'video'\n",
        "\n",
        "result = len(df[cond1 & cond2 & cond3])\n",
        "\n",
        "print(result)"
      ],
      "metadata": {
        "colab": {
          "base_uri": "https://localhost:8080/"
        },
        "id": "KoHxjxE14H5i",
        "outputId": "7fcc1bdc-b9b1-49a3-b83a-d25e52dd5975"
      },
      "execution_count": 7,
      "outputs": [
        {
          "output_type": "stream",
          "name": "stdout",
          "text": [
            "90\n"
          ]
        }
      ]
    },
    {
      "cell_type": "code",
      "source": [
        "import pandas as pd\n",
        "df = pd.read_csv(\"nf.csv\")\n",
        "\n",
        "# print(help(pd.DataFrame.dropna))\n",
        "\n",
        "# print(df.shape)\n",
        "df = df.dropna(subset=['date_added'])\n",
        "# print(df.shape)\n",
        "\n",
        "# print(df['date_added'].head(3)) # September 25, 2021\n",
        "\n",
        "df['date_added'] = pd.to_datetime(df['date_added'])\n",
        "\n",
        "# print(df['date_added'].head(3)) # 2021-09-25\n",
        "\n",
        "# df['year'] = df['date_added'].dt.year.astype('string')\n",
        "# df['month'] = df['date_added'].dt.month.astype('string')\n",
        "\n",
        "# cond1 = df['year'] == 2018\n",
        "# cond2 = df['month'] == 1\n",
        "# cond3 = df['country'] == 'United Kingdom'\n",
        "\n",
        "result = len(df[df['date_added'].astype('string').str.contains('2018-01') & cond3])\n",
        "\n",
        "print(result)"
      ],
      "metadata": {
        "colab": {
          "base_uri": "https://localhost:8080/"
        },
        "id": "_NWNa9YJ4Jkm",
        "outputId": "a878c98b-9ba3-4758-c7c6-0eba8294a7e5"
      },
      "execution_count": 17,
      "outputs": [
        {
          "output_type": "stream",
          "name": "stdout",
          "text": [
            "6\n"
          ]
        },
        {
          "output_type": "stream",
          "name": "stderr",
          "text": [
            "<ipython-input-17-21aae46c3071>:23: UserWarning: Boolean Series key will be reindexed to match DataFrame index.\n",
            "  result = len(df[df['date_added'].astype('string').str.contains('2018-01') & cond3])\n"
          ]
        }
      ]
    },
    {
      "cell_type": "code",
      "source": [
        "import pandas as pd\n",
        "df = pd.read_csv(\"nf.csv\")\n",
        "\n",
        "df['date_added'] = pd.to_datetime(df['date_added'])\n",
        "\n",
        "df['year'] = df['date_added'].dt.year\n",
        "df['month'] = df['date_added'].dt.month\n",
        "\n",
        "cond1 = df['year'] == 2018\n",
        "cond2 = df['month'] == 1\n",
        "cond3 = df['country'] == 'United Kingdom'\n",
        "\n",
        "result = df[cond1 & cond2 & cond3]\n",
        "\n",
        "print(len(result))"
      ],
      "metadata": {
        "colab": {
          "base_uri": "https://localhost:8080/"
        },
        "id": "WfrUIR5U4uhy",
        "outputId": "b94545ec-795a-4f67-988f-a3a9b9803dfd"
      },
      "execution_count": 16,
      "outputs": [
        {
          "output_type": "stream",
          "name": "stdout",
          "text": [
            "6\n"
          ]
        }
      ]
    },
    {
      "cell_type": "markdown",
      "source": [
        "### 2"
      ],
      "metadata": {
        "id": "K4cKKTUK18IJ"
      }
    },
    {
      "cell_type": "code",
      "execution_count": 5,
      "metadata": {
        "colab": {
          "base_uri": "https://localhost:8080/"
        },
        "id": "jNtpR3on16IV",
        "outputId": "818302b8-938a-41bd-a12e-4f5d313aa199"
      },
      "outputs": [
        {
          "output_type": "stream",
          "name": "stdout",
          "text": [
            "(6665, 11) (2154, 10)\n",
            "(6665, 9) (2154, 9)\n",
            "(5332, 9) (1333, 9) (5332,) (1333,)\n",
            "0.48123537267661165\n",
            "(2154, 2)\n"
          ]
        }
      ],
      "source": [
        "# 1. 데이터 불러오기\n",
        "import pandas as pd\n",
        "\n",
        "train = pd.read_csv('train.csv')\n",
        "test = pd.read_csv('test.csv')\n",
        "\n",
        "print(train.shape, test.shape)\n",
        "\n",
        "# 2. EDA\n",
        "# print(train.info()) # float64(2), int64(3), object(6)\n",
        "# print(test.info()) # float64(2), int64(2), object(6)\n",
        "\n",
        "# print(train.isnull().sum())\n",
        "# print(test.isnull().sum())\n",
        "\n",
        "# print(train.head()) # ID 삭제하기\n",
        "# print(test.head()) # ID pop\n",
        "\n",
        "# print(train.describe(include='O'))\n",
        "# print(test.describe(include='O'))\n",
        "\n",
        "\n",
        "cols = train.select_dtypes(include='O').columns\n",
        "\n",
        "# for col in cols:\n",
        "#     A = set(train[col])\n",
        "#     B = set(test[col])\n",
        "#     print(A-B)\n",
        "#     print(B-A)\n",
        "\n",
        "# 3. 전처리 FE\n",
        "target = train.pop('Segmentation')\n",
        "\n",
        "train = train.drop('ID', axis=1)\n",
        "test_id = test.pop('ID')\n",
        "\n",
        "# obejct 삭제\n",
        "# train = train.drop(cols, axis=1)\n",
        "# test = test.drop(cols, axis=1)\n",
        "\n",
        "# 원핫\n",
        "# train = pd.get_dummies(train)\n",
        "# test = pd.get_dummies(test)\n",
        "\n",
        "# label\n",
        "from sklearn.preprocessing import LabelEncoder\n",
        "\n",
        "for col in cols:\n",
        "    le = LabelEncoder()\n",
        "    train[col] = le.fit_transform(train[col])\n",
        "    test[col] = le.transform(test[col])\n",
        "\n",
        "print(train.shape, test.shape)\n",
        "# print(train.head())\n",
        "\n",
        "# 4. train val split\n",
        "from sklearn.model_selection import train_test_split\n",
        "\n",
        "X_tr, X_val, y_tr, y_val = train_test_split(train, target, test_size=0.2, random_state=123)\n",
        "print(X_tr.shape, X_val.shape, y_tr.shape, y_val.shape)\n",
        "\n",
        "# 5. 모델 선택 학습 예측 classifier\n",
        "from sklearn.ensemble import RandomForestClassifier\n",
        "\n",
        "model = RandomForestClassifier(random_state=123)\n",
        "model.fit(X_tr, y_tr)\n",
        "pred = model.predict(X_val)\n",
        "\n",
        "# print(pred)\n",
        "\n",
        "# 6. 평가  f1_score macro\n",
        "from sklearn.metrics import f1_score\n",
        "\n",
        "print(f1_score(y_val, pred, average='macro'))\n",
        "# print(help(f1_score))\n",
        "\n",
        "# baseline 0.3808680264315276\n",
        "# 원핫 0.4630094069778344\n",
        "# lable 0.48123537267661165\n",
        "\n",
        "# 7. test 예측 및 파일 제출\n",
        "pred = model.predict(test)\n",
        "\n",
        "submit = pd.DataFrame({\n",
        "    'ID': test_id,\n",
        "    'Segmentation': pred\n",
        "})\n",
        "\n",
        "submit.to_csv('submission.csv', index=False)\n",
        "\n",
        "print(pd.read_csv('submission.csv').shape)"
      ]
    }
  ]
}