{
  "nbformat": 4,
  "nbformat_minor": 0,
  "metadata": {
    "colab": {
      "provenance": []
    },
    "kernelspec": {
      "name": "python3",
      "display_name": "Python 3"
    },
    "language_info": {
      "name": "python"
    }
  },
  "cells": [
    {
      "cell_type": "markdown",
      "source": [
        "### 1"
      ],
      "metadata": {
        "id": "2Fz9PzBakGPz"
      }
    },
    {
      "cell_type": "code",
      "execution_count": 6,
      "metadata": {
        "colab": {
          "base_uri": "https://localhost:8080/"
        },
        "id": "S4XeN7SUkCtH",
        "outputId": "00ee75c5-1652-4e17-e378-ba5c7fc92882"
      },
      "outputs": [
        {
          "output_type": "stream",
          "name": "stdout",
          "text": [
            "118\n"
          ]
        }
      ],
      "source": [
        "import pandas as pd\n",
        "\n",
        "pd.set_option('display.max_columns', None)\n",
        "df = pd.read_csv(\"5-1price.csv\")\n",
        "\n",
        "# your code\n",
        "cond1 = df['종량제봉투종류'] == '규격봉투'\n",
        "cond2 = df['종량제봉투용도'] == '음식물쓰레기'\n",
        "\n",
        "df = df[cond1 & cond2]\n",
        "\n",
        "cond3 = df['2ℓ가격'] != 0\n",
        "\n",
        "df = df[cond3]\n",
        "\n",
        "result = df['2ℓ가격'].mean()\n",
        "\n",
        "print(int(round(result)))"
      ]
    },
    {
      "cell_type": "code",
      "source": [
        "import pandas as pd\n",
        "df = pd.read_csv(\"5-2bmi.csv\")\n",
        "\n",
        "# your code\n",
        "import numpy as np\n",
        "\n",
        "df['BMI'] = df['Weight'] / ((df['Height'] / 100)** 2)\n",
        "\n",
        "print(df.head())\n",
        "\n",
        "def check_bmi(bmi):\n",
        "    if bmi < 18.5:\n",
        "        return '저체중'\n",
        "    elif 18.5 <= bmi < 23:\n",
        "        return '정상체중'\n",
        "    elif 23 <= bmi < 25:\n",
        "        return '과체중 또는 위험체중'\n",
        "    else:\n",
        "        return '비만체중'\n",
        "\n",
        "df['수치'] = df['BMI'].apply(check_bmi)\n",
        "\n",
        "# print(df['수치'].value_counts())\n",
        "result1 = sum(df['수치'] == '정상체중')\n",
        "result2 = sum(df['수치'] == '과체중 또는 위험체중')\n",
        "\n",
        "print(abs(result1 - result2))"
      ],
      "metadata": {
        "colab": {
          "base_uri": "https://localhost:8080/"
        },
        "id": "gZ-_Ry-bkLm3",
        "outputId": "a72533bc-71b0-4013-e848-1f1135ae95f6"
      },
      "execution_count": 8,
      "outputs": [
        {
          "output_type": "stream",
          "name": "stdout",
          "text": [
            "  Gender  Height  Weight        BMI\n",
            "0   Male   187.6   109.7  31.170298\n",
            "1   Male   174.7    73.6  24.115263\n",
            "2   Male   188.2    96.5  27.245079\n",
            "3   Male   182.2    99.8  30.063102\n",
            "4   Male   177.5    93.6  29.708391\n",
            "144\n"
          ]
        }
      ]
    },
    {
      "cell_type": "code",
      "source": [
        "import pandas as pd\n",
        "df = pd.read_csv(\"5-3student.csv\")\n",
        "\n",
        "# your code\n",
        "\n",
        "df['순전입학생수'] = df['전입학생수(계)'] - df['전출학생수(계)']\n",
        "df.iloc[:, -2:].sort_values(['순전입학생수'], ascending=False)\n",
        "\n",
        "result = df[df['순전입학생수'] == df['순전입학생수'].max()]['전체학생수(계)']\n",
        "\n",
        "print(int(result.loc[1880]))"
      ],
      "metadata": {
        "colab": {
          "base_uri": "https://localhost:8080/"
        },
        "id": "Wcl0MM3ikNQg",
        "outputId": "c08f0a05-d7fe-40aa-9281-99ed47e4e41a"
      },
      "execution_count": 3,
      "outputs": [
        {
          "output_type": "stream",
          "name": "stdout",
          "text": [
            "230\n"
          ]
        }
      ]
    },
    {
      "cell_type": "markdown",
      "source": [
        "### 2"
      ],
      "metadata": {
        "id": "gXzfZOXykGug"
      }
    },
    {
      "cell_type": "code",
      "source": [
        "# 1. 데이터 불러오기\n",
        "import pandas as pd\n",
        "train = pd.read_csv('train.csv')\n",
        "test = pd.read_csv('test.csv')\n",
        "\n",
        "print(train.shape, test.shape)\n",
        "\n",
        "# 2. EDA\n",
        "# print(train.isnull().sum())\n",
        "# print(test.isnull().sum())\n",
        "\n",
        "# print(train.info()) # float64(2), int64(4), object(3)\n",
        "# print(test.info()) # float64(2), int64(3), object(3)\n",
        "\n",
        "# print(train.head())\n",
        "# print(test.head())\n",
        "\n",
        "# print(train.describe(include='O'))\n",
        "\n",
        "cols = train.select_dtypes(include='O').columns\n",
        "\n",
        "# print(cols)\n",
        "\n",
        "# print(train['model'].value_counts())\n",
        "\n",
        "# for col in cols:\n",
        "#     print(set(train[col]))\n",
        "#     print(set(test[col]))\n",
        "#     print(set(train[col]) - set(test[col]))\n",
        "#     print(set(test[col]) - set(train[col]))\n",
        "\n",
        "\n",
        "# 3. 전처리 FE\n",
        "target = train.pop('price')\n",
        "\n",
        "# object 삭제\n",
        "# train = train.drop(cols, axis=1)\n",
        "# test = test.drop(cols, axis=1)\n",
        "\n",
        "# 원핫\n",
        "# train = pd.get_dummies(train)\n",
        "# test = pd.get_dummies(test)\n",
        "\n",
        "# label\n",
        "from sklearn.preprocessing import LabelEncoder\n",
        "\n",
        "for col in cols:\n",
        "    le = LabelEncoder()\n",
        "    train[col] = le.fit_transform(train[col])\n",
        "    test[col] = le.transform(test[col])\n",
        "\n",
        "print(train.shape, test.shape)\n",
        "print(train.head())\n",
        "\n",
        "# 4. train, test split\n",
        "from sklearn.model_selection import train_test_split\n",
        "\n",
        "X_tr, X_val, y_tr, y_val = train_test_split(train, target, test_size=0.2, random_state=123)\n",
        "print(X_tr.shape, X_val.shape, y_tr.shape, y_val.shape)\n",
        "\n",
        "# 5. 모델 선택 학습 예측\n",
        "from sklearn.ensemble import RandomForestRegressor\n",
        "\n",
        "model = RandomForestRegressor()\n",
        "model.fit(X_tr, y_tr)\n",
        "pred = model.predict(X_val)\n",
        "\n",
        "# 6. 평가\n",
        "from sklearn.metrics import mean_squared_error\n",
        "import numpy as np\n",
        "\n",
        "def rmse(y, pred):\n",
        "    return np.sqrt(mean_squared_error(y, pred))\n",
        "\n",
        "print(rmse(y_val, pred))\n",
        "\n",
        "# base line 1475.1455911498017\n",
        "# 원핫 1354.8502422515874\n",
        "# label 1329.841635858263\n",
        "\n",
        "# 7. test 예측 후 결과 제출\n",
        "pred = model.predict(test)\n",
        "submit = pd.DataFrame({\n",
        "    'pred': pred\n",
        "})\n",
        "\n",
        "submit.to_csv('result.csv', index=False)\n",
        "\n",
        "print(rmse(pd.read_csv('y.csv'), pd.read_csv('result.csv')))"
      ],
      "metadata": {
        "colab": {
          "base_uri": "https://localhost:8080/"
        },
        "id": "gK-JjnItkE7O",
        "outputId": "43b87533-f505-449a-92d9-4a62d8c674eb"
      },
      "execution_count": 4,
      "outputs": [
        {
          "output_type": "stream",
          "name": "stdout",
          "text": [
            "(3759, 9) (1617, 8)\n",
            "(3759, 8) (1617, 8)\n",
            "   model  year  transmission  mileage  fuelType  tax   mpg  engineSize\n",
            "0      2  2017             1    25013         2  150  53.3         1.0\n",
            "1      5  2016             1    30970         0    0  74.3         1.5\n",
            "2     16  2017             1    60200         0  150  56.5         2.0\n",
            "3      4  2018             1    27380         2  145  56.5         1.0\n",
            "4      4  2018             1     7724         2  145  65.7         1.0\n",
            "(3007, 8) (752, 8) (3007,) (752,)\n",
            "1328.9877128026758\n",
            "1437.234341135778\n"
          ]
        }
      ]
    },
    {
      "cell_type": "code",
      "source": [],
      "metadata": {
        "id": "uBRzsTkdkF4L"
      },
      "execution_count": 4,
      "outputs": []
    }
  ]
}