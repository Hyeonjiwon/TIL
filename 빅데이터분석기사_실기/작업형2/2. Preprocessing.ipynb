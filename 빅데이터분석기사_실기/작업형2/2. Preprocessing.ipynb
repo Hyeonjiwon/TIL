{
  "nbformat": 4,
  "nbformat_minor": 0,
  "metadata": {
    "colab": {
      "provenance": []
    },
    "kernelspec": {
      "name": "python3",
      "display_name": "Python 3"
    },
    "language_info": {
      "name": "python"
    }
  },
  "cells": [
    {
      "cell_type": "markdown",
      "metadata": {
        "id": "E-4qBDyJ_3pY"
      },
      "source": [
        "## 데이터 전처리\n",
        "- 결측치 처리\n",
        "- 이상치 처리\n",
        "\n",
        "- 데이터 : data_atype.zip (수업노트에서 다운로드)"
      ]
    },
    {
      "cell_type": "markdown",
      "source": [
        "전처리 주의사항\n",
        "- 이상치, 결측치에 대해 test데이터(행) 삭제 불가\n",
        "    - ex) test 데이터 100개가 주어지고 100개로 평가하는데 임의로 10개를 삭제하면 채점 불가\n",
        "    - train 데이터는 학습/훈련용 데이터기 때문에 데이터가 많을 경우 임의로 소수의 데이터(행)을 삭제해도 무방\n",
        "- test, train 컬럼은 삭제/추가 가능\n",
        "- 단, train과 컬럼수와 컬럼명이 일치해야 함(y(target)제외)"
      ],
      "metadata": {
        "id": "An6ynT3GKbpN"
      }
    },
    {
      "cell_type": "markdown",
      "metadata": {
        "id": "4pdzfX3QAASW"
      },
      "source": [
        "## 라이브러리 및 데이터 불러오기"
      ]
    },
    {
      "cell_type": "code",
      "metadata": {
        "id": "LYqxDYWhvcPk"
      },
      "source": [
        "import pandas as pd\n",
        "X_train = pd.read_csv('X_train.csv')\n",
        "y_train = pd.read_csv('y_train.csv')\n",
        "X_test = pd.read_csv('X_test.csv')"
      ],
      "execution_count": 1,
      "outputs": []
    },
    {
      "cell_type": "markdown",
      "metadata": {
        "id": "pn9UuRqWw1sl"
      },
      "source": [
        "# 결측치"
      ]
    },
    {
      "cell_type": "code",
      "metadata": {
        "id": "lL5PrRTKw3q_",
        "colab": {
          "base_uri": "https://localhost:8080/",
          "height": 296
        },
        "outputId": "4d446cbf-1fbe-48f3-f4bd-b17ed143220b"
      },
      "source": [
        "# 데이터 샘플 확인\n",
        "X_train.head()"
      ],
      "execution_count": 4,
      "outputs": [
        {
          "output_type": "execute_result",
          "data": {
            "text/plain": [
              "      id   age  workclass  fnlwgt     education  education.num  \\\n",
              "0   3331  34.0  State-gov  177331  Some-college             10   \n",
              "1  19749  58.0    Private  290661       HS-grad              9   \n",
              "2   1157  48.0    Private  125933  Some-college             10   \n",
              "3    693  58.0    Private  100313  Some-college             10   \n",
              "4  12522  41.0    Private  195661  Some-college             10   \n",
              "\n",
              "       marital.status        occupation relationship   race     sex  \\\n",
              "0  Married-civ-spouse    Prof-specialty      Husband  Black    Male   \n",
              "1  Married-civ-spouse      Craft-repair      Husband  White    Male   \n",
              "2             Widowed   Exec-managerial    Unmarried  Black  Female   \n",
              "3  Married-civ-spouse   Protective-serv      Husband  White    Male   \n",
              "4  Married-civ-spouse  Transport-moving      Husband  White    Male   \n",
              "\n",
              "   capital.gain  capital.loss  hours.per.week native.country  \n",
              "0          4386             0            40.0  United-States  \n",
              "1             0             0            40.0  United-States  \n",
              "2             0          1669            38.0  United-States  \n",
              "3             0          1902            40.0  United-States  \n",
              "4             0             0            54.0  United-States  "
            ],
            "text/html": [
              "\n",
              "  <div id=\"df-25a6d216-02af-466b-9c9e-6fd9c9ec7ac8\" class=\"colab-df-container\">\n",
              "    <div>\n",
              "<style scoped>\n",
              "    .dataframe tbody tr th:only-of-type {\n",
              "        vertical-align: middle;\n",
              "    }\n",
              "\n",
              "    .dataframe tbody tr th {\n",
              "        vertical-align: top;\n",
              "    }\n",
              "\n",
              "    .dataframe thead th {\n",
              "        text-align: right;\n",
              "    }\n",
              "</style>\n",
              "<table border=\"1\" class=\"dataframe\">\n",
              "  <thead>\n",
              "    <tr style=\"text-align: right;\">\n",
              "      <th></th>\n",
              "      <th>id</th>\n",
              "      <th>age</th>\n",
              "      <th>workclass</th>\n",
              "      <th>fnlwgt</th>\n",
              "      <th>education</th>\n",
              "      <th>education.num</th>\n",
              "      <th>marital.status</th>\n",
              "      <th>occupation</th>\n",
              "      <th>relationship</th>\n",
              "      <th>race</th>\n",
              "      <th>sex</th>\n",
              "      <th>capital.gain</th>\n",
              "      <th>capital.loss</th>\n",
              "      <th>hours.per.week</th>\n",
              "      <th>native.country</th>\n",
              "    </tr>\n",
              "  </thead>\n",
              "  <tbody>\n",
              "    <tr>\n",
              "      <th>0</th>\n",
              "      <td>3331</td>\n",
              "      <td>34.0</td>\n",
              "      <td>State-gov</td>\n",
              "      <td>177331</td>\n",
              "      <td>Some-college</td>\n",
              "      <td>10</td>\n",
              "      <td>Married-civ-spouse</td>\n",
              "      <td>Prof-specialty</td>\n",
              "      <td>Husband</td>\n",
              "      <td>Black</td>\n",
              "      <td>Male</td>\n",
              "      <td>4386</td>\n",
              "      <td>0</td>\n",
              "      <td>40.0</td>\n",
              "      <td>United-States</td>\n",
              "    </tr>\n",
              "    <tr>\n",
              "      <th>1</th>\n",
              "      <td>19749</td>\n",
              "      <td>58.0</td>\n",
              "      <td>Private</td>\n",
              "      <td>290661</td>\n",
              "      <td>HS-grad</td>\n",
              "      <td>9</td>\n",
              "      <td>Married-civ-spouse</td>\n",
              "      <td>Craft-repair</td>\n",
              "      <td>Husband</td>\n",
              "      <td>White</td>\n",
              "      <td>Male</td>\n",
              "      <td>0</td>\n",
              "      <td>0</td>\n",
              "      <td>40.0</td>\n",
              "      <td>United-States</td>\n",
              "    </tr>\n",
              "    <tr>\n",
              "      <th>2</th>\n",
              "      <td>1157</td>\n",
              "      <td>48.0</td>\n",
              "      <td>Private</td>\n",
              "      <td>125933</td>\n",
              "      <td>Some-college</td>\n",
              "      <td>10</td>\n",
              "      <td>Widowed</td>\n",
              "      <td>Exec-managerial</td>\n",
              "      <td>Unmarried</td>\n",
              "      <td>Black</td>\n",
              "      <td>Female</td>\n",
              "      <td>0</td>\n",
              "      <td>1669</td>\n",
              "      <td>38.0</td>\n",
              "      <td>United-States</td>\n",
              "    </tr>\n",
              "    <tr>\n",
              "      <th>3</th>\n",
              "      <td>693</td>\n",
              "      <td>58.0</td>\n",
              "      <td>Private</td>\n",
              "      <td>100313</td>\n",
              "      <td>Some-college</td>\n",
              "      <td>10</td>\n",
              "      <td>Married-civ-spouse</td>\n",
              "      <td>Protective-serv</td>\n",
              "      <td>Husband</td>\n",
              "      <td>White</td>\n",
              "      <td>Male</td>\n",
              "      <td>0</td>\n",
              "      <td>1902</td>\n",
              "      <td>40.0</td>\n",
              "      <td>United-States</td>\n",
              "    </tr>\n",
              "    <tr>\n",
              "      <th>4</th>\n",
              "      <td>12522</td>\n",
              "      <td>41.0</td>\n",
              "      <td>Private</td>\n",
              "      <td>195661</td>\n",
              "      <td>Some-college</td>\n",
              "      <td>10</td>\n",
              "      <td>Married-civ-spouse</td>\n",
              "      <td>Transport-moving</td>\n",
              "      <td>Husband</td>\n",
              "      <td>White</td>\n",
              "      <td>Male</td>\n",
              "      <td>0</td>\n",
              "      <td>0</td>\n",
              "      <td>54.0</td>\n",
              "      <td>United-States</td>\n",
              "    </tr>\n",
              "  </tbody>\n",
              "</table>\n",
              "</div>\n",
              "    <div class=\"colab-df-buttons\">\n",
              "\n",
              "  <div class=\"colab-df-container\">\n",
              "    <button class=\"colab-df-convert\" onclick=\"convertToInteractive('df-25a6d216-02af-466b-9c9e-6fd9c9ec7ac8')\"\n",
              "            title=\"Convert this dataframe to an interactive table.\"\n",
              "            style=\"display:none;\">\n",
              "\n",
              "  <svg xmlns=\"http://www.w3.org/2000/svg\" height=\"24px\" viewBox=\"0 -960 960 960\">\n",
              "    <path d=\"M120-120v-720h720v720H120Zm60-500h600v-160H180v160Zm220 220h160v-160H400v160Zm0 220h160v-160H400v160ZM180-400h160v-160H180v160Zm440 0h160v-160H620v160ZM180-180h160v-160H180v160Zm440 0h160v-160H620v160Z\"/>\n",
              "  </svg>\n",
              "    </button>\n",
              "\n",
              "  <style>\n",
              "    .colab-df-container {\n",
              "      display:flex;\n",
              "      gap: 12px;\n",
              "    }\n",
              "\n",
              "    .colab-df-convert {\n",
              "      background-color: #E8F0FE;\n",
              "      border: none;\n",
              "      border-radius: 50%;\n",
              "      cursor: pointer;\n",
              "      display: none;\n",
              "      fill: #1967D2;\n",
              "      height: 32px;\n",
              "      padding: 0 0 0 0;\n",
              "      width: 32px;\n",
              "    }\n",
              "\n",
              "    .colab-df-convert:hover {\n",
              "      background-color: #E2EBFA;\n",
              "      box-shadow: 0px 1px 2px rgba(60, 64, 67, 0.3), 0px 1px 3px 1px rgba(60, 64, 67, 0.15);\n",
              "      fill: #174EA6;\n",
              "    }\n",
              "\n",
              "    .colab-df-buttons div {\n",
              "      margin-bottom: 4px;\n",
              "    }\n",
              "\n",
              "    [theme=dark] .colab-df-convert {\n",
              "      background-color: #3B4455;\n",
              "      fill: #D2E3FC;\n",
              "    }\n",
              "\n",
              "    [theme=dark] .colab-df-convert:hover {\n",
              "      background-color: #434B5C;\n",
              "      box-shadow: 0px 1px 3px 1px rgba(0, 0, 0, 0.15);\n",
              "      filter: drop-shadow(0px 1px 2px rgba(0, 0, 0, 0.3));\n",
              "      fill: #FFFFFF;\n",
              "    }\n",
              "  </style>\n",
              "\n",
              "    <script>\n",
              "      const buttonEl =\n",
              "        document.querySelector('#df-25a6d216-02af-466b-9c9e-6fd9c9ec7ac8 button.colab-df-convert');\n",
              "      buttonEl.style.display =\n",
              "        google.colab.kernel.accessAllowed ? 'block' : 'none';\n",
              "\n",
              "      async function convertToInteractive(key) {\n",
              "        const element = document.querySelector('#df-25a6d216-02af-466b-9c9e-6fd9c9ec7ac8');\n",
              "        const dataTable =\n",
              "          await google.colab.kernel.invokeFunction('convertToInteractive',\n",
              "                                                    [key], {});\n",
              "        if (!dataTable) return;\n",
              "\n",
              "        const docLinkHtml = 'Like what you see? Visit the ' +\n",
              "          '<a target=\"_blank\" href=https://colab.research.google.com/notebooks/data_table.ipynb>data table notebook</a>'\n",
              "          + ' to learn more about interactive tables.';\n",
              "        element.innerHTML = '';\n",
              "        dataTable['output_type'] = 'display_data';\n",
              "        await google.colab.output.renderOutput(dataTable, element);\n",
              "        const docLink = document.createElement('div');\n",
              "        docLink.innerHTML = docLinkHtml;\n",
              "        element.appendChild(docLink);\n",
              "      }\n",
              "    </script>\n",
              "  </div>\n",
              "\n",
              "\n",
              "<div id=\"df-f2e166b1-370c-410e-9472-515d14afeaa9\">\n",
              "  <button class=\"colab-df-quickchart\" onclick=\"quickchart('df-f2e166b1-370c-410e-9472-515d14afeaa9')\"\n",
              "            title=\"Suggest charts\"\n",
              "            style=\"display:none;\">\n",
              "\n",
              "<svg xmlns=\"http://www.w3.org/2000/svg\" height=\"24px\"viewBox=\"0 0 24 24\"\n",
              "     width=\"24px\">\n",
              "    <g>\n",
              "        <path d=\"M19 3H5c-1.1 0-2 .9-2 2v14c0 1.1.9 2 2 2h14c1.1 0 2-.9 2-2V5c0-1.1-.9-2-2-2zM9 17H7v-7h2v7zm4 0h-2V7h2v10zm4 0h-2v-4h2v4z\"/>\n",
              "    </g>\n",
              "</svg>\n",
              "  </button>\n",
              "\n",
              "<style>\n",
              "  .colab-df-quickchart {\n",
              "      --bg-color: #E8F0FE;\n",
              "      --fill-color: #1967D2;\n",
              "      --hover-bg-color: #E2EBFA;\n",
              "      --hover-fill-color: #174EA6;\n",
              "      --disabled-fill-color: #AAA;\n",
              "      --disabled-bg-color: #DDD;\n",
              "  }\n",
              "\n",
              "  [theme=dark] .colab-df-quickchart {\n",
              "      --bg-color: #3B4455;\n",
              "      --fill-color: #D2E3FC;\n",
              "      --hover-bg-color: #434B5C;\n",
              "      --hover-fill-color: #FFFFFF;\n",
              "      --disabled-bg-color: #3B4455;\n",
              "      --disabled-fill-color: #666;\n",
              "  }\n",
              "\n",
              "  .colab-df-quickchart {\n",
              "    background-color: var(--bg-color);\n",
              "    border: none;\n",
              "    border-radius: 50%;\n",
              "    cursor: pointer;\n",
              "    display: none;\n",
              "    fill: var(--fill-color);\n",
              "    height: 32px;\n",
              "    padding: 0;\n",
              "    width: 32px;\n",
              "  }\n",
              "\n",
              "  .colab-df-quickchart:hover {\n",
              "    background-color: var(--hover-bg-color);\n",
              "    box-shadow: 0 1px 2px rgba(60, 64, 67, 0.3), 0 1px 3px 1px rgba(60, 64, 67, 0.15);\n",
              "    fill: var(--button-hover-fill-color);\n",
              "  }\n",
              "\n",
              "  .colab-df-quickchart-complete:disabled,\n",
              "  .colab-df-quickchart-complete:disabled:hover {\n",
              "    background-color: var(--disabled-bg-color);\n",
              "    fill: var(--disabled-fill-color);\n",
              "    box-shadow: none;\n",
              "  }\n",
              "\n",
              "  .colab-df-spinner {\n",
              "    border: 2px solid var(--fill-color);\n",
              "    border-color: transparent;\n",
              "    border-bottom-color: var(--fill-color);\n",
              "    animation:\n",
              "      spin 1s steps(1) infinite;\n",
              "  }\n",
              "\n",
              "  @keyframes spin {\n",
              "    0% {\n",
              "      border-color: transparent;\n",
              "      border-bottom-color: var(--fill-color);\n",
              "      border-left-color: var(--fill-color);\n",
              "    }\n",
              "    20% {\n",
              "      border-color: transparent;\n",
              "      border-left-color: var(--fill-color);\n",
              "      border-top-color: var(--fill-color);\n",
              "    }\n",
              "    30% {\n",
              "      border-color: transparent;\n",
              "      border-left-color: var(--fill-color);\n",
              "      border-top-color: var(--fill-color);\n",
              "      border-right-color: var(--fill-color);\n",
              "    }\n",
              "    40% {\n",
              "      border-color: transparent;\n",
              "      border-right-color: var(--fill-color);\n",
              "      border-top-color: var(--fill-color);\n",
              "    }\n",
              "    60% {\n",
              "      border-color: transparent;\n",
              "      border-right-color: var(--fill-color);\n",
              "    }\n",
              "    80% {\n",
              "      border-color: transparent;\n",
              "      border-right-color: var(--fill-color);\n",
              "      border-bottom-color: var(--fill-color);\n",
              "    }\n",
              "    90% {\n",
              "      border-color: transparent;\n",
              "      border-bottom-color: var(--fill-color);\n",
              "    }\n",
              "  }\n",
              "</style>\n",
              "\n",
              "  <script>\n",
              "    async function quickchart(key) {\n",
              "      const quickchartButtonEl =\n",
              "        document.querySelector('#' + key + ' button');\n",
              "      quickchartButtonEl.disabled = true;  // To prevent multiple clicks.\n",
              "      quickchartButtonEl.classList.add('colab-df-spinner');\n",
              "      try {\n",
              "        const charts = await google.colab.kernel.invokeFunction(\n",
              "            'suggestCharts', [key], {});\n",
              "      } catch (error) {\n",
              "        console.error('Error during call to suggestCharts:', error);\n",
              "      }\n",
              "      quickchartButtonEl.classList.remove('colab-df-spinner');\n",
              "      quickchartButtonEl.classList.add('colab-df-quickchart-complete');\n",
              "    }\n",
              "    (() => {\n",
              "      let quickchartButtonEl =\n",
              "        document.querySelector('#df-f2e166b1-370c-410e-9472-515d14afeaa9 button');\n",
              "      quickchartButtonEl.style.display =\n",
              "        google.colab.kernel.accessAllowed ? 'block' : 'none';\n",
              "    })();\n",
              "  </script>\n",
              "</div>\n",
              "\n",
              "    </div>\n",
              "  </div>\n"
            ],
            "application/vnd.google.colaboratory.intrinsic+json": {
              "type": "dataframe",
              "variable_name": "X_train",
              "summary": "{\n  \"name\": \"X_train\",\n  \"rows\": 29304,\n  \"fields\": [\n    {\n      \"column\": \"id\",\n      \"properties\": {\n        \"dtype\": \"number\",\n        \"std\": 9384,\n        \"min\": 0,\n        \"max\": 32560,\n        \"num_unique_values\": 29304,\n        \"samples\": [\n          19881,\n          7338,\n          18727\n        ],\n        \"semantic_type\": \"\",\n        \"description\": \"\"\n      }\n    },\n    {\n      \"column\": \"age\",\n      \"properties\": {\n        \"dtype\": \"number\",\n        \"std\": 13.628811238549194,\n        \"min\": -38.0,\n        \"max\": 90.0,\n        \"num_unique_values\": 75,\n        \"samples\": [\n          46.0,\n          70.0,\n          47.0\n        ],\n        \"semantic_type\": \"\",\n        \"description\": \"\"\n      }\n    },\n    {\n      \"column\": \"workclass\",\n      \"properties\": {\n        \"dtype\": \"category\",\n        \"num_unique_values\": 8,\n        \"samples\": [\n          \"Private\",\n          \"Self-emp-inc\",\n          \"State-gov\"\n        ],\n        \"semantic_type\": \"\",\n        \"description\": \"\"\n      }\n    },\n    {\n      \"column\": \"fnlwgt\",\n      \"properties\": {\n        \"dtype\": \"number\",\n        \"std\": 105525,\n        \"min\": 12285,\n        \"max\": 1484705,\n        \"num_unique_values\": 20059,\n        \"samples\": [\n          207473,\n          27669,\n          177995\n        ],\n        \"semantic_type\": \"\",\n        \"description\": \"\"\n      }\n    },\n    {\n      \"column\": \"education\",\n      \"properties\": {\n        \"dtype\": \"category\",\n        \"num_unique_values\": 16,\n        \"samples\": [\n          \"Some-college\",\n          \"HS-grad\",\n          \"Assoc-voc\"\n        ],\n        \"semantic_type\": \"\",\n        \"description\": \"\"\n      }\n    },\n    {\n      \"column\": \"education.num\",\n      \"properties\": {\n        \"dtype\": \"number\",\n        \"std\": 2,\n        \"min\": 1,\n        \"max\": 16,\n        \"num_unique_values\": 16,\n        \"samples\": [\n          10,\n          9,\n          11\n        ],\n        \"semantic_type\": \"\",\n        \"description\": \"\"\n      }\n    },\n    {\n      \"column\": \"marital.status\",\n      \"properties\": {\n        \"dtype\": \"category\",\n        \"num_unique_values\": 7,\n        \"samples\": [\n          \"Married-civ-spouse\",\n          \"Widowed\",\n          \"Separated\"\n        ],\n        \"semantic_type\": \"\",\n        \"description\": \"\"\n      }\n    },\n    {\n      \"column\": \"occupation\",\n      \"properties\": {\n        \"dtype\": \"category\",\n        \"num_unique_values\": 14,\n        \"samples\": [\n          \"Tech-support\",\n          \"Other-service\",\n          \"Prof-specialty\"\n        ],\n        \"semantic_type\": \"\",\n        \"description\": \"\"\n      }\n    },\n    {\n      \"column\": \"relationship\",\n      \"properties\": {\n        \"dtype\": \"category\",\n        \"num_unique_values\": 6,\n        \"samples\": [\n          \"Husband\",\n          \"Unmarried\",\n          \"Own-child\"\n        ],\n        \"semantic_type\": \"\",\n        \"description\": \"\"\n      }\n    },\n    {\n      \"column\": \"race\",\n      \"properties\": {\n        \"dtype\": \"category\",\n        \"num_unique_values\": 5,\n        \"samples\": [\n          \"White\",\n          \"Amer-Indian-Eskimo\",\n          \"Other\"\n        ],\n        \"semantic_type\": \"\",\n        \"description\": \"\"\n      }\n    },\n    {\n      \"column\": \"sex\",\n      \"properties\": {\n        \"dtype\": \"category\",\n        \"num_unique_values\": 2,\n        \"samples\": [\n          \"Female\",\n          \"Male\"\n        ],\n        \"semantic_type\": \"\",\n        \"description\": \"\"\n      }\n    },\n    {\n      \"column\": \"capital.gain\",\n      \"properties\": {\n        \"dtype\": \"number\",\n        \"std\": 7477,\n        \"min\": 0,\n        \"max\": 99999,\n        \"num_unique_values\": 116,\n        \"samples\": [\n          1173,\n          6418\n        ],\n        \"semantic_type\": \"\",\n        \"description\": \"\"\n      }\n    },\n    {\n      \"column\": \"capital.loss\",\n      \"properties\": {\n        \"dtype\": \"number\",\n        \"std\": 401,\n        \"min\": 0,\n        \"max\": 4356,\n        \"num_unique_values\": 92,\n        \"samples\": [\n          2001,\n          2377\n        ],\n        \"semantic_type\": \"\",\n        \"description\": \"\"\n      }\n    },\n    {\n      \"column\": \"hours.per.week\",\n      \"properties\": {\n        \"dtype\": \"number\",\n        \"std\": 12.324036367267187,\n        \"min\": 1.0,\n        \"max\": 99.0,\n        \"num_unique_values\": 94,\n        \"samples\": [\n          5.0,\n          41.0\n        ],\n        \"semantic_type\": \"\",\n        \"description\": \"\"\n      }\n    },\n    {\n      \"column\": \"native.country\",\n      \"properties\": {\n        \"dtype\": \"category\",\n        \"num_unique_values\": 41,\n        \"samples\": [\n          \"Columbia\",\n          \"Canada\"\n        ],\n        \"semantic_type\": \"\",\n        \"description\": \"\"\n      }\n    }\n  ]\n}"
            }
          },
          "metadata": {},
          "execution_count": 4
        }
      ]
    },
    {
      "cell_type": "code",
      "metadata": {
        "id": "WDWyjF66w6eg",
        "colab": {
          "base_uri": "https://localhost:8080/"
        },
        "outputId": "29cdf868-04ae-4f12-e7b2-2b8c1148efd2"
      },
      "source": [
        "# 결측치 컬럼 확인\n",
        "X_train.isnull().sum()"
      ],
      "execution_count": 5,
      "outputs": [
        {
          "output_type": "execute_result",
          "data": {
            "text/plain": [
              "id                   0\n",
              "age                 12\n",
              "workclass         1662\n",
              "fnlwgt               0\n",
              "education            0\n",
              "education.num        0\n",
              "marital.status       0\n",
              "occupation        1668\n",
              "relationship         0\n",
              "race                 0\n",
              "sex                  0\n",
              "capital.gain         0\n",
              "capital.loss         0\n",
              "hours.per.week      13\n",
              "native.country     537\n",
              "dtype: int64"
            ]
          },
          "metadata": {},
          "execution_count": 5
        }
      ]
    },
    {
      "cell_type": "code",
      "metadata": {
        "id": "E-cuOBumAQY1",
        "colab": {
          "base_uri": "https://localhost:8080/"
        },
        "outputId": "6d110d67-7ef3-4f82-d9e8-9191c0b799d1"
      },
      "source": [
        "# 데이터 타입 확인\n",
        "X_train.info()"
      ],
      "execution_count": 6,
      "outputs": [
        {
          "output_type": "stream",
          "name": "stdout",
          "text": [
            "<class 'pandas.core.frame.DataFrame'>\n",
            "RangeIndex: 29304 entries, 0 to 29303\n",
            "Data columns (total 15 columns):\n",
            " #   Column          Non-Null Count  Dtype  \n",
            "---  ------          --------------  -----  \n",
            " 0   id              29304 non-null  int64  \n",
            " 1   age             29292 non-null  float64\n",
            " 2   workclass       27642 non-null  object \n",
            " 3   fnlwgt          29304 non-null  int64  \n",
            " 4   education       29304 non-null  object \n",
            " 5   education.num   29304 non-null  int64  \n",
            " 6   marital.status  29304 non-null  object \n",
            " 7   occupation      27636 non-null  object \n",
            " 8   relationship    29304 non-null  object \n",
            " 9   race            29304 non-null  object \n",
            " 10  sex             29304 non-null  object \n",
            " 11  capital.gain    29304 non-null  int64  \n",
            " 12  capital.loss    29304 non-null  int64  \n",
            " 13  hours.per.week  29291 non-null  float64\n",
            " 14  native.country  28767 non-null  object \n",
            "dtypes: float64(2), int64(5), object(8)\n",
            "memory usage: 3.4+ MB\n"
          ]
        }
      ]
    },
    {
      "cell_type": "code",
      "metadata": {
        "id": "wMIKvIsiw_mc",
        "colab": {
          "base_uri": "https://localhost:8080/"
        },
        "outputId": "4caa0426-5ab9-4254-c2dc-a57dbaf301e9"
      },
      "source": [
        "# workclass 컬럼 고유 값 개수\n",
        "X_train['workclass'].value_counts()\n",
        "\n",
        "# 최빈값 Private 20451 -> 결측치를 최빈값으로 채워도 됨"
      ],
      "execution_count": 11,
      "outputs": [
        {
          "output_type": "execute_result",
          "data": {
            "text/plain": [
              "workclass\n",
              "Private             20451\n",
              "Self-emp-not-inc     2292\n",
              "Local-gov            1863\n",
              "State-gov            1170\n",
              "Self-emp-inc          991\n",
              "Federal-gov           856\n",
              "Without-pay            13\n",
              "Never-worked            6\n",
              "Name: count, dtype: int64"
            ]
          },
          "metadata": {},
          "execution_count": 11
        }
      ]
    },
    {
      "cell_type": "code",
      "source": [
        "print(X_train['workclass'].unique())\n",
        "print(X_train['workclass'].nunique())"
      ],
      "metadata": {
        "colab": {
          "base_uri": "https://localhost:8080/"
        },
        "id": "LvdF3MkcL9vm",
        "outputId": "e4a80e80-66c6-483a-e085-11a75d610285"
      },
      "execution_count": 12,
      "outputs": [
        {
          "output_type": "stream",
          "name": "stdout",
          "text": [
            "['State-gov' 'Private' 'Self-emp-not-inc' 'Local-gov' 'Federal-gov'\n",
            " 'Self-emp-inc' nan 'Without-pay' 'Never-worked']\n",
            "8\n"
          ]
        }
      ]
    },
    {
      "cell_type": "code",
      "metadata": {
        "id": "UhjjkgfPxG7U",
        "colab": {
          "base_uri": "https://localhost:8080/"
        },
        "outputId": "5e3ef133-1917-4d83-97fe-6a462fa3f40c"
      },
      "source": [
        "# occupation 컬럼 고유 값 개수\n",
        "X_train['occupation'].value_counts()\n",
        "\n",
        "# 최빈값 Prof-specialty 3683 -> 최빈값이지만 값이 비슷하기 때문에 최빈값으로 결측치를 채우기엔 어려움"
      ],
      "execution_count": 13,
      "outputs": [
        {
          "output_type": "execute_result",
          "data": {
            "text/plain": [
              "occupation\n",
              "Prof-specialty       3683\n",
              "Craft-repair         3677\n",
              "Exec-managerial      3632\n",
              "Adm-clerical         3411\n",
              "Sales                3295\n",
              "Other-service        2993\n",
              "Machine-op-inspct    1822\n",
              "Transport-moving     1434\n",
              "Handlers-cleaners    1223\n",
              "Farming-fishing       891\n",
              "Tech-support          842\n",
              "Protective-serv       590\n",
              "Priv-house-serv       135\n",
              "Armed-Forces            8\n",
              "Name: count, dtype: int64"
            ]
          },
          "metadata": {},
          "execution_count": 13
        }
      ]
    },
    {
      "cell_type": "code",
      "metadata": {
        "id": "TwZX4gmVxKVu",
        "colab": {
          "base_uri": "https://localhost:8080/"
        },
        "outputId": "b581ff82-0e0c-46f7-9284-9d24685ba72d"
      },
      "source": [
        "# native.country 컬럼 고유 값 개수\n",
        "X_train['native.country'].value_counts()\n",
        "\n",
        "# 최빈값 United-States 26240"
      ],
      "execution_count": 15,
      "outputs": [
        {
          "output_type": "execute_result",
          "data": {
            "text/plain": [
              "native.country\n",
              "United-States                 26240\n",
              "Mexico                          576\n",
              "Philippines                     178\n",
              "Germany                         120\n",
              "Canada                          109\n",
              "Puerto-Rico                      98\n",
              "India                            91\n",
              "El-Salvador                      91\n",
              "Cuba                             87\n",
              "England                          79\n",
              "Jamaica                          77\n",
              "South                            75\n",
              "China                            70\n",
              "Italy                            68\n",
              "Vietnam                          64\n",
              "Dominican-Republic               63\n",
              "Japan                            56\n",
              "Columbia                         55\n",
              "Guatemala                        53\n",
              "Poland                           50\n",
              "Taiwan                           50\n",
              "Haiti                            40\n",
              "Iran                             37\n",
              "Portugal                         33\n",
              "Nicaragua                        32\n",
              "Greece                           27\n",
              "Ecuador                          26\n",
              "France                           26\n",
              "Peru                             24\n",
              "Ireland                          22\n",
              "Hong                             19\n",
              "Thailand                         17\n",
              "Cambodia                         17\n",
              "Laos                             17\n",
              "Yugoslavia                       15\n",
              "Trinadad&Tobago                  14\n",
              "Hungary                          13\n",
              "Honduras                         13\n",
              "Scotland                         12\n",
              "Outlying-US(Guam-USVI-etc)       12\n",
              "Holand-Netherlands                1\n",
              "Name: count, dtype: int64"
            ]
          },
          "metadata": {},
          "execution_count": 15
        }
      ]
    },
    {
      "cell_type": "markdown",
      "metadata": {
        "id": "uGTmi2mUxVso"
      },
      "source": [
        "# 범주형 변수 결측치\n",
        "- 삭제\n",
        "- 최빈값\n",
        "- 없는값"
      ]
    },
    {
      "cell_type": "markdown",
      "metadata": {
        "id": "kLTURBAIIxK9"
      },
      "source": [
        "## 삭제"
      ]
    },
    {
      "cell_type": "code",
      "metadata": {
        "id": "kab44IcECSVk",
        "colab": {
          "base_uri": "https://localhost:8080/"
        },
        "outputId": "04ab4215-dccb-4e34-ce8f-dbb8b6ea3b15"
      },
      "source": [
        "# X_train과 X_test 데이터 크기 확인\n",
        "X_train.shape, X_test.shape"
      ],
      "execution_count": 16,
      "outputs": [
        {
          "output_type": "execute_result",
          "data": {
            "text/plain": [
              "((29304, 15), (3257, 15))"
            ]
          },
          "metadata": {},
          "execution_count": 16
        }
      ]
    },
    {
      "cell_type": "code",
      "metadata": {
        "id": "tLho960vii_H",
        "colab": {
          "base_uri": "https://localhost:8080/"
        },
        "outputId": "8cd2666d-091f-4926-fa79-72a3f9831145"
      },
      "source": [
        "# 결측치 확인\n",
        "X_train.isnull().sum()"
      ],
      "execution_count": 17,
      "outputs": [
        {
          "output_type": "execute_result",
          "data": {
            "text/plain": [
              "id                   0\n",
              "age                 12\n",
              "workclass         1662\n",
              "fnlwgt               0\n",
              "education            0\n",
              "education.num        0\n",
              "marital.status       0\n",
              "occupation        1668\n",
              "relationship         0\n",
              "race                 0\n",
              "sex                  0\n",
              "capital.gain         0\n",
              "capital.loss         0\n",
              "hours.per.week      13\n",
              "native.country     537\n",
              "dtype: int64"
            ]
          },
          "metadata": {},
          "execution_count": 17
        }
      ]
    },
    {
      "cell_type": "code",
      "metadata": {
        "id": "lQpcaqEhENJr",
        "colab": {
          "base_uri": "https://localhost:8080/"
        },
        "outputId": "e312d01e-e928-42fa-a209-520566a617a0"
      },
      "source": [
        "# 결측치가 있는 데이터(행) 전체 삭제 및 확인 dropna() #기본값 axis=0 : 행 삭제\n",
        "df = X_train.dropna(axis=0)\n",
        "df.isnull().sum()"
      ],
      "execution_count": 19,
      "outputs": [
        {
          "output_type": "execute_result",
          "data": {
            "text/plain": [
              "id                0\n",
              "age               0\n",
              "workclass         0\n",
              "fnlwgt            0\n",
              "education         0\n",
              "education.num     0\n",
              "marital.status    0\n",
              "occupation        0\n",
              "relationship      0\n",
              "race              0\n",
              "sex               0\n",
              "capital.gain      0\n",
              "capital.loss      0\n",
              "hours.per.week    0\n",
              "native.country    0\n",
              "dtype: int64"
            ]
          },
          "metadata": {},
          "execution_count": 19
        }
      ]
    },
    {
      "cell_type": "code",
      "source": [
        "df.shape"
      ],
      "metadata": {
        "colab": {
          "base_uri": "https://localhost:8080/"
        },
        "id": "664X4eTrNYMX",
        "outputId": "d0a8f24a-af0f-496e-d458-90cb9f5db9ae"
      },
      "execution_count": 20,
      "outputs": [
        {
          "output_type": "execute_result",
          "data": {
            "text/plain": [
              "(27096, 15)"
            ]
          },
          "metadata": {},
          "execution_count": 20
        }
      ]
    },
    {
      "cell_type": "code",
      "metadata": {
        "id": "Kskq244HEdJg",
        "colab": {
          "base_uri": "https://localhost:8080/"
        },
        "outputId": "bbad10ab-51e1-4bc8-b67f-5afcfdab5e07"
      },
      "source": [
        "# 특정컬럼에 결측치가 있으면 데이터(행) 삭제 subset=['native.country']\n",
        "df = X_train.dropna(subset=['native.country'])\n",
        "print(df.isnull().sum())\n",
        "print(df.shape)"
      ],
      "execution_count": 23,
      "outputs": [
        {
          "output_type": "stream",
          "name": "stdout",
          "text": [
            "id                   0\n",
            "age                 12\n",
            "workclass         1640\n",
            "fnlwgt               0\n",
            "education            0\n",
            "education.num        0\n",
            "marital.status       0\n",
            "occupation        1646\n",
            "relationship         0\n",
            "race                 0\n",
            "sex                  0\n",
            "capital.gain         0\n",
            "capital.loss         0\n",
            "hours.per.week      13\n",
            "native.country       0\n",
            "dtype: int64\n",
            "(28767, 15)\n"
          ]
        }
      ]
    },
    {
      "cell_type": "code",
      "metadata": {
        "id": "qfmtzzZDE5Mj",
        "colab": {
          "base_uri": "https://localhost:8080/"
        },
        "outputId": "d8815c66-9160-49a8-ad1e-90c9f3cb163f"
      },
      "source": [
        "# 특정컬럼에 결측치가 있으면 데이터(행) 삭제 subset=['native.country', 'workclass']\n",
        "df = X_train.dropna(subset=['native.country', 'workclass'])\n",
        "print(df.isnull().sum())\n",
        "print(df.shape)\n",
        "\n",
        "# workclass 결측치가 사라지면서 occupation 결측치들도 대부분 사라짐"
      ],
      "execution_count": 25,
      "outputs": [
        {
          "output_type": "stream",
          "name": "stdout",
          "text": [
            "id                 0\n",
            "age               12\n",
            "workclass          0\n",
            "fnlwgt             0\n",
            "education          0\n",
            "education.num      0\n",
            "marital.status     0\n",
            "occupation         6\n",
            "relationship       0\n",
            "race               0\n",
            "sex                0\n",
            "capital.gain       0\n",
            "capital.loss       0\n",
            "hours.per.week    13\n",
            "native.country     0\n",
            "dtype: int64\n",
            "(27127, 15)\n"
          ]
        }
      ]
    },
    {
      "cell_type": "code",
      "metadata": {
        "id": "2DoT-qixF0sS",
        "colab": {
          "base_uri": "https://localhost:8080/"
        },
        "outputId": "fa9f06f9-f124-44fa-9980-8bf83269332a"
      },
      "source": [
        "# 결측치가 있는 컬럼 삭제 dropna(axis=1)\n",
        "df = X_train.dropna(axis=1)\n",
        "df.isnull().sum()"
      ],
      "execution_count": 26,
      "outputs": [
        {
          "output_type": "execute_result",
          "data": {
            "text/plain": [
              "id                0\n",
              "fnlwgt            0\n",
              "education         0\n",
              "education.num     0\n",
              "marital.status    0\n",
              "relationship      0\n",
              "race              0\n",
              "sex               0\n",
              "capital.gain      0\n",
              "capital.loss      0\n",
              "dtype: int64"
            ]
          },
          "metadata": {},
          "execution_count": 26
        }
      ]
    },
    {
      "cell_type": "code",
      "metadata": {
        "id": "iYvjtY0WFKID",
        "colab": {
          "base_uri": "https://localhost:8080/"
        },
        "outputId": "e83e192a-7f5e-44c4-ac1c-4c6a999d8c10"
      },
      "source": [
        "# 결측치가 많은 특정 컬럼 삭제 drop(['workclass'], axis=1)\n",
        "df = X_train.drop(['workclass'], axis=1)\n",
        "df.isnull().sum()"
      ],
      "execution_count": 27,
      "outputs": [
        {
          "output_type": "execute_result",
          "data": {
            "text/plain": [
              "id                   0\n",
              "age                 12\n",
              "fnlwgt               0\n",
              "education            0\n",
              "education.num        0\n",
              "marital.status       0\n",
              "occupation        1668\n",
              "relationship         0\n",
              "race                 0\n",
              "sex                  0\n",
              "capital.gain         0\n",
              "capital.loss         0\n",
              "hours.per.week      13\n",
              "native.country     537\n",
              "dtype: int64"
            ]
          },
          "metadata": {},
          "execution_count": 27
        }
      ]
    },
    {
      "cell_type": "code",
      "metadata": {
        "id": "IZeQj4z4JpSi",
        "colab": {
          "base_uri": "https://localhost:8080/"
        },
        "outputId": "855cb6a4-17a9-490a-bfd0-96cda60f618b"
      },
      "source": [
        "# 중복값 제거 drop_duplicates()\n",
        "print(X_train.shape)\n",
        "df = X_train.drop_duplicates()\n",
        "print(df.shape)"
      ],
      "execution_count": 29,
      "outputs": [
        {
          "output_type": "stream",
          "name": "stdout",
          "text": [
            "(29304, 15)\n",
            "(29304, 15)\n"
          ]
        }
      ]
    },
    {
      "cell_type": "code",
      "source": [
        "# df.drop_duplicates(subset=['A'])\n",
        "# df.drop_duplicates(subset=['A', 'B'], keep='last') # 기본적으로 앞에 값을 살리나 last 설정시 뒤에 값 살림"
      ],
      "metadata": {
        "id": "70VYbURjP2dE"
      },
      "execution_count": 31,
      "outputs": []
    },
    {
      "cell_type": "markdown",
      "metadata": {
        "id": "0XM3j2ZHI_dr"
      },
      "source": [
        "## 채우기"
      ]
    },
    {
      "cell_type": "code",
      "metadata": {
        "id": "iq_U4LlmGV-v",
        "colab": {
          "base_uri": "https://localhost:8080/"
        },
        "outputId": "43208395-c5c2-475d-c90d-f92df00b98f4"
      },
      "source": [
        "# 최빈값\n",
        "m = X_train['workclass'].mode()[0]\n",
        "X_train['workclass'] = X_train['workclass'].fillna(m)\n",
        "\n",
        "print(X_train.isnull().sum())"
      ],
      "execution_count": 36,
      "outputs": [
        {
          "output_type": "stream",
          "name": "stdout",
          "text": [
            "Private\n",
            "id                   0\n",
            "age                 12\n",
            "workclass            0\n",
            "fnlwgt               0\n",
            "education            0\n",
            "education.num        0\n",
            "marital.status       0\n",
            "occupation        1668\n",
            "relationship         0\n",
            "race                 0\n",
            "sex                  0\n",
            "capital.gain         0\n",
            "capital.loss         0\n",
            "hours.per.week      13\n",
            "native.country     537\n",
            "dtype: int64\n"
          ]
        }
      ]
    },
    {
      "cell_type": "code",
      "metadata": {
        "id": "iYXBcyXlJoUP",
        "colab": {
          "base_uri": "https://localhost:8080/"
        },
        "outputId": "3a5c68cd-2d1a-413d-8ebb-b98cc5140be6"
      },
      "source": [
        "# 결측값을 새로운 카테고리로 생성 X_train['occupation']\n",
        "X_train['occupation'].value_counts()\n",
        "# 최빈값이 비슷 -> 임의의 값으로 채우기"
      ],
      "execution_count": 43,
      "outputs": [
        {
          "output_type": "execute_result",
          "data": {
            "text/plain": [
              "occupation\n",
              "Prof-specialty       3683\n",
              "Craft-repair         3677\n",
              "Exec-managerial      3632\n",
              "Adm-clerical         3411\n",
              "Sales                3295\n",
              "Other-service        2993\n",
              "Machine-op-inspct    1822\n",
              "Transport-moving     1434\n",
              "Handlers-cleaners    1223\n",
              "Farming-fishing       891\n",
              "Tech-support          842\n",
              "Protective-serv       590\n",
              "Priv-house-serv       135\n",
              "Armed-Forces            8\n",
              "Name: count, dtype: int64"
            ]
          },
          "metadata": {},
          "execution_count": 43
        }
      ]
    },
    {
      "cell_type": "code",
      "source": [
        "X_train['occupation'] = X_train['occupation'].fillna('X')\n",
        "print(X_train.isnull().sum())"
      ],
      "metadata": {
        "colab": {
          "base_uri": "https://localhost:8080/"
        },
        "id": "vHdJZlFDQ_Jp",
        "outputId": "12342147-a788-4dc6-e54e-dd525ca77e5e"
      },
      "execution_count": 45,
      "outputs": [
        {
          "output_type": "stream",
          "name": "stdout",
          "text": [
            "id                  0\n",
            "age                12\n",
            "workclass           0\n",
            "fnlwgt              0\n",
            "education           0\n",
            "education.num       0\n",
            "marital.status      0\n",
            "occupation          0\n",
            "relationship        0\n",
            "race                0\n",
            "sex                 0\n",
            "capital.gain        0\n",
            "capital.loss        0\n",
            "hours.per.week     13\n",
            "native.country    537\n",
            "dtype: int64\n"
          ]
        }
      ]
    },
    {
      "cell_type": "markdown",
      "metadata": {
        "id": "2CUTjg3IKrnW"
      },
      "source": [
        "### 결측치 처리\n",
        "**!!! test 데이터도 값이 채워줘야 함**\n",
        "\n",
        "- workclass 최빈값\n",
        "- native.country 최빈값\n",
        "- occupation 별도의 카테고리로"
      ]
    },
    {
      "cell_type": "code",
      "metadata": {
        "id": "7aNMkiAmnmWa"
      },
      "source": [
        "# 데이터 불러오기\n",
        "import pandas as pd\n",
        "X_train = pd.read_csv('X_train.csv')\n",
        "y_train = pd.read_csv('y_train.csv')\n",
        "X_test = pd.read_csv('X_test.csv')"
      ],
      "execution_count": 46,
      "outputs": []
    },
    {
      "cell_type": "code",
      "metadata": {
        "id": "B8At4c0SxYhH"
      },
      "source": [
        "# X_train데이터\n",
        "X_train['workclass'] = X_train['workclass'].fillna(X_train['workclass'].mode()[0])\n",
        "X_train['native.country'] = X_train['native.country'].fillna(X_train['native.country'].mode()[0])\n",
        "X_train['occupation'] = X_train['occupation'].fillna('X')"
      ],
      "execution_count": 54,
      "outputs": []
    },
    {
      "cell_type": "code",
      "metadata": {
        "id": "jOtlm3KYCJq4",
        "colab": {
          "base_uri": "https://localhost:8080/"
        },
        "outputId": "f94f9cb1-5012-4131-e09b-3fb5b5951baf"
      },
      "source": [
        "# 결측치 확인\n",
        "X_train.isnull().sum()"
      ],
      "execution_count": 55,
      "outputs": [
        {
          "output_type": "execute_result",
          "data": {
            "text/plain": [
              "id                 0\n",
              "age               12\n",
              "workclass          0\n",
              "fnlwgt             0\n",
              "education          0\n",
              "education.num      0\n",
              "marital.status     0\n",
              "occupation         0\n",
              "relationship       0\n",
              "race               0\n",
              "sex                0\n",
              "capital.gain       0\n",
              "capital.loss       0\n",
              "hours.per.week    13\n",
              "native.country     0\n",
              "dtype: int64"
            ]
          },
          "metadata": {},
          "execution_count": 55
        }
      ]
    },
    {
      "cell_type": "code",
      "metadata": {
        "id": "bxwDq02iyte5"
      },
      "source": [
        "# X_test데이터\n",
        "X_test['workclass'] = X_test['workclass'].fillna(X_test['workclass'].mode()[0])\n",
        "X_test['native.country'] = X_test['native.country'].fillna(X_test['native.country'].mode()[0])\n",
        "X_test['occupation'] = X_test['occupation'].fillna('X')"
      ],
      "execution_count": 56,
      "outputs": []
    },
    {
      "cell_type": "code",
      "source": [
        "# 결측치 확인\n",
        "X_test.isnull().sum()"
      ],
      "metadata": {
        "colab": {
          "base_uri": "https://localhost:8080/"
        },
        "id": "uEuYNWUNSdC8",
        "outputId": "8d2362af-fb14-4c24-f3eb-aca10750d20a"
      },
      "execution_count": 57,
      "outputs": [
        {
          "output_type": "execute_result",
          "data": {
            "text/plain": [
              "id                0\n",
              "age               6\n",
              "workclass         0\n",
              "fnlwgt            0\n",
              "education         0\n",
              "education.num     0\n",
              "marital.status    0\n",
              "occupation        0\n",
              "relationship      0\n",
              "race              0\n",
              "sex               0\n",
              "capital.gain      0\n",
              "capital.loss      0\n",
              "hours.per.week    9\n",
              "native.country    0\n",
              "dtype: int64"
            ]
          },
          "metadata": {},
          "execution_count": 57
        }
      ]
    },
    {
      "cell_type": "markdown",
      "metadata": {
        "id": "BoNBTeGMx47W"
      },
      "source": [
        "### 수치형 변수 결측치\n",
        "- 평균값\n",
        "- 중앙값\n",
        "- 최대값\n",
        "- 최소값\n",
        "- 그룹별 00 값"
      ]
    },
    {
      "cell_type": "code",
      "metadata": {
        "id": "lzQa_deNy0u4",
        "colab": {
          "base_uri": "https://localhost:8080/"
        },
        "outputId": "248d1fd6-bd8c-4fb9-fcbf-fd43f7f2182c"
      },
      "source": [
        "#결측치 확인\n",
        "X_train.isnull().sum()"
      ],
      "execution_count": 58,
      "outputs": [
        {
          "output_type": "execute_result",
          "data": {
            "text/plain": [
              "id                 0\n",
              "age               12\n",
              "workclass          0\n",
              "fnlwgt             0\n",
              "education          0\n",
              "education.num      0\n",
              "marital.status     0\n",
              "occupation         0\n",
              "relationship       0\n",
              "race               0\n",
              "sex                0\n",
              "capital.gain       0\n",
              "capital.loss       0\n",
              "hours.per.week    13\n",
              "native.country     0\n",
              "dtype: int64"
            ]
          },
          "metadata": {},
          "execution_count": 58
        }
      ]
    },
    {
      "cell_type": "code",
      "metadata": {
        "id": "MX8YS8m-MePW",
        "colab": {
          "base_uri": "https://localhost:8080/"
        },
        "outputId": "7841e80c-0f8e-4335-c9ef-10271a63f4ac"
      },
      "source": [
        "# 평균값\n",
        "X_train['age'].mean()"
      ],
      "execution_count": 59,
      "outputs": [
        {
          "output_type": "execute_result",
          "data": {
            "text/plain": [
              "38.553222722927764"
            ]
          },
          "metadata": {},
          "execution_count": 59
        }
      ]
    },
    {
      "cell_type": "code",
      "metadata": {
        "id": "Ateg2ElSMeaJ",
        "colab": {
          "base_uri": "https://localhost:8080/"
        },
        "outputId": "4190ca24-8162-4292-f3f7-fc3b9a887af8"
      },
      "source": [
        "# 중앙값\n",
        "X_train['age'].median()"
      ],
      "execution_count": 60,
      "outputs": [
        {
          "output_type": "execute_result",
          "data": {
            "text/plain": [
              "37.0"
            ]
          },
          "metadata": {},
          "execution_count": 60
        }
      ]
    },
    {
      "cell_type": "code",
      "metadata": {
        "id": "sKpdPiInMeiU",
        "colab": {
          "base_uri": "https://localhost:8080/"
        },
        "outputId": "3409c914-8ba2-4935-dfb9-4b272507892b"
      },
      "source": [
        "# 최대값\n",
        "X_train['age'].max()"
      ],
      "execution_count": 61,
      "outputs": [
        {
          "output_type": "execute_result",
          "data": {
            "text/plain": [
              "90.0"
            ]
          },
          "metadata": {},
          "execution_count": 61
        }
      ]
    },
    {
      "cell_type": "code",
      "metadata": {
        "id": "2Ul5MQSvM57O",
        "colab": {
          "base_uri": "https://localhost:8080/"
        },
        "outputId": "8bff997a-3410-4e56-d1d9-06380e11548a"
      },
      "source": [
        "# 최소값\n",
        "X_train['age'].min()"
      ],
      "execution_count": 62,
      "outputs": [
        {
          "output_type": "execute_result",
          "data": {
            "text/plain": [
              "-38.0"
            ]
          },
          "metadata": {},
          "execution_count": 62
        }
      ]
    },
    {
      "cell_type": "code",
      "metadata": {
        "id": "BTSVqAjBNEQ7"
      },
      "source": [
        "# age 컬럼 평균값으로 채우기\n",
        "train_value = X_train['age'].mean()\n",
        "test_value = X_test['age'].mean()\n",
        "\n",
        "X_train['age'] = X_train['age'].fillna(train_value)\n",
        "X_test['age'] = X_test['age'].fillna(test_value)"
      ],
      "execution_count": 69,
      "outputs": []
    },
    {
      "cell_type": "code",
      "metadata": {
        "id": "5YPakgqSNETe"
      },
      "source": [
        "# 주당 근무시간 중앙값으로 채우기\n",
        "train_value = X_train['hours.per.week'].median()\n",
        "test_value = X_test['hours.per.week'].median()\n",
        "\n",
        "X_train['hours.per.week'] = X_train['hours.per.week'].fillna(train_value)\n",
        "X_test['hours.per.week'] = X_test['hours.per.week'].fillna(test_value)"
      ],
      "execution_count": 70,
      "outputs": []
    },
    {
      "cell_type": "code",
      "metadata": {
        "id": "Cv1Nx-LeOFrb",
        "colab": {
          "base_uri": "https://localhost:8080/"
        },
        "outputId": "5053925b-c4fa-431a-a2d6-e28ea755ed4c"
      },
      "source": [
        "# X_train 결측치 확인\n",
        "X_train.isnull().sum()"
      ],
      "execution_count": 71,
      "outputs": [
        {
          "output_type": "execute_result",
          "data": {
            "text/plain": [
              "id                0\n",
              "age               0\n",
              "workclass         0\n",
              "fnlwgt            0\n",
              "education         0\n",
              "education.num     0\n",
              "marital.status    0\n",
              "occupation        0\n",
              "relationship      0\n",
              "race              0\n",
              "sex               0\n",
              "capital.gain      0\n",
              "capital.loss      0\n",
              "hours.per.week    0\n",
              "native.country    0\n",
              "dtype: int64"
            ]
          },
          "metadata": {},
          "execution_count": 71
        }
      ]
    },
    {
      "cell_type": "code",
      "metadata": {
        "id": "Fu8ruSKUOIYU",
        "colab": {
          "base_uri": "https://localhost:8080/"
        },
        "outputId": "3b67015b-1515-4494-c8a0-3d58ebbfe61a"
      },
      "source": [
        "# X_test 결측치 확인\n",
        "X_test.isnull().sum()"
      ],
      "execution_count": 72,
      "outputs": [
        {
          "output_type": "execute_result",
          "data": {
            "text/plain": [
              "id                0\n",
              "age               0\n",
              "workclass         0\n",
              "fnlwgt            0\n",
              "education         0\n",
              "education.num     0\n",
              "marital.status    0\n",
              "occupation        0\n",
              "relationship      0\n",
              "race              0\n",
              "sex               0\n",
              "capital.gain      0\n",
              "capital.loss      0\n",
              "hours.per.week    0\n",
              "native.country    0\n",
              "dtype: int64"
            ]
          },
          "metadata": {},
          "execution_count": 72
        }
      ]
    },
    {
      "cell_type": "markdown",
      "metadata": {
        "id": "pFvq2XYSzXFg"
      },
      "source": [
        "## 이상치 처리\n",
        "- 이상한 값 삭제"
      ]
    },
    {
      "cell_type": "code",
      "metadata": {
        "id": "KCfJ7uLM9qz_",
        "colab": {
          "base_uri": "https://localhost:8080/",
          "height": 320
        },
        "outputId": "fbd0f61c-150c-4761-e2ed-8bb877d2579c"
      },
      "source": [
        "# X_train 통계 확인\n",
        "X_train.describe()"
      ],
      "execution_count": 73,
      "outputs": [
        {
          "output_type": "execute_result",
          "data": {
            "text/plain": [
              "                 id           age        fnlwgt  education.num  capital.gain  \\\n",
              "count  29304.000000  29304.000000  2.930400e+04   29304.000000  29304.000000   \n",
              "mean   16264.027880     38.553223  1.897488e+05      10.080842   1093.858722   \n",
              "std     9384.518323     13.626020  1.055250e+05       2.570824   7477.435640   \n",
              "min        0.000000    -38.000000  1.228500e+04       1.000000      0.000000   \n",
              "25%     8145.750000     28.000000  1.177890e+05       9.000000      0.000000   \n",
              "50%    16253.500000     37.000000  1.783765e+05      10.000000      0.000000   \n",
              "75%    24374.250000     48.000000  2.370682e+05      12.000000      0.000000   \n",
              "max    32560.000000     90.000000  1.484705e+06      16.000000  99999.000000   \n",
              "\n",
              "       capital.loss  hours.per.week  \n",
              "count  29304.000000    29304.000000  \n",
              "mean      86.744506       40.434036  \n",
              "std      401.518928       12.321306  \n",
              "min        0.000000        1.000000  \n",
              "25%        0.000000       40.000000  \n",
              "50%        0.000000       40.000000  \n",
              "75%        0.000000       45.000000  \n",
              "max     4356.000000       99.000000  "
            ],
            "text/html": [
              "\n",
              "  <div id=\"df-0b718085-6807-4389-9e3f-eaf138adea1a\" class=\"colab-df-container\">\n",
              "    <div>\n",
              "<style scoped>\n",
              "    .dataframe tbody tr th:only-of-type {\n",
              "        vertical-align: middle;\n",
              "    }\n",
              "\n",
              "    .dataframe tbody tr th {\n",
              "        vertical-align: top;\n",
              "    }\n",
              "\n",
              "    .dataframe thead th {\n",
              "        text-align: right;\n",
              "    }\n",
              "</style>\n",
              "<table border=\"1\" class=\"dataframe\">\n",
              "  <thead>\n",
              "    <tr style=\"text-align: right;\">\n",
              "      <th></th>\n",
              "      <th>id</th>\n",
              "      <th>age</th>\n",
              "      <th>fnlwgt</th>\n",
              "      <th>education.num</th>\n",
              "      <th>capital.gain</th>\n",
              "      <th>capital.loss</th>\n",
              "      <th>hours.per.week</th>\n",
              "    </tr>\n",
              "  </thead>\n",
              "  <tbody>\n",
              "    <tr>\n",
              "      <th>count</th>\n",
              "      <td>29304.000000</td>\n",
              "      <td>29304.000000</td>\n",
              "      <td>2.930400e+04</td>\n",
              "      <td>29304.000000</td>\n",
              "      <td>29304.000000</td>\n",
              "      <td>29304.000000</td>\n",
              "      <td>29304.000000</td>\n",
              "    </tr>\n",
              "    <tr>\n",
              "      <th>mean</th>\n",
              "      <td>16264.027880</td>\n",
              "      <td>38.553223</td>\n",
              "      <td>1.897488e+05</td>\n",
              "      <td>10.080842</td>\n",
              "      <td>1093.858722</td>\n",
              "      <td>86.744506</td>\n",
              "      <td>40.434036</td>\n",
              "    </tr>\n",
              "    <tr>\n",
              "      <th>std</th>\n",
              "      <td>9384.518323</td>\n",
              "      <td>13.626020</td>\n",
              "      <td>1.055250e+05</td>\n",
              "      <td>2.570824</td>\n",
              "      <td>7477.435640</td>\n",
              "      <td>401.518928</td>\n",
              "      <td>12.321306</td>\n",
              "    </tr>\n",
              "    <tr>\n",
              "      <th>min</th>\n",
              "      <td>0.000000</td>\n",
              "      <td>-38.000000</td>\n",
              "      <td>1.228500e+04</td>\n",
              "      <td>1.000000</td>\n",
              "      <td>0.000000</td>\n",
              "      <td>0.000000</td>\n",
              "      <td>1.000000</td>\n",
              "    </tr>\n",
              "    <tr>\n",
              "      <th>25%</th>\n",
              "      <td>8145.750000</td>\n",
              "      <td>28.000000</td>\n",
              "      <td>1.177890e+05</td>\n",
              "      <td>9.000000</td>\n",
              "      <td>0.000000</td>\n",
              "      <td>0.000000</td>\n",
              "      <td>40.000000</td>\n",
              "    </tr>\n",
              "    <tr>\n",
              "      <th>50%</th>\n",
              "      <td>16253.500000</td>\n",
              "      <td>37.000000</td>\n",
              "      <td>1.783765e+05</td>\n",
              "      <td>10.000000</td>\n",
              "      <td>0.000000</td>\n",
              "      <td>0.000000</td>\n",
              "      <td>40.000000</td>\n",
              "    </tr>\n",
              "    <tr>\n",
              "      <th>75%</th>\n",
              "      <td>24374.250000</td>\n",
              "      <td>48.000000</td>\n",
              "      <td>2.370682e+05</td>\n",
              "      <td>12.000000</td>\n",
              "      <td>0.000000</td>\n",
              "      <td>0.000000</td>\n",
              "      <td>45.000000</td>\n",
              "    </tr>\n",
              "    <tr>\n",
              "      <th>max</th>\n",
              "      <td>32560.000000</td>\n",
              "      <td>90.000000</td>\n",
              "      <td>1.484705e+06</td>\n",
              "      <td>16.000000</td>\n",
              "      <td>99999.000000</td>\n",
              "      <td>4356.000000</td>\n",
              "      <td>99.000000</td>\n",
              "    </tr>\n",
              "  </tbody>\n",
              "</table>\n",
              "</div>\n",
              "    <div class=\"colab-df-buttons\">\n",
              "\n",
              "  <div class=\"colab-df-container\">\n",
              "    <button class=\"colab-df-convert\" onclick=\"convertToInteractive('df-0b718085-6807-4389-9e3f-eaf138adea1a')\"\n",
              "            title=\"Convert this dataframe to an interactive table.\"\n",
              "            style=\"display:none;\">\n",
              "\n",
              "  <svg xmlns=\"http://www.w3.org/2000/svg\" height=\"24px\" viewBox=\"0 -960 960 960\">\n",
              "    <path d=\"M120-120v-720h720v720H120Zm60-500h600v-160H180v160Zm220 220h160v-160H400v160Zm0 220h160v-160H400v160ZM180-400h160v-160H180v160Zm440 0h160v-160H620v160ZM180-180h160v-160H180v160Zm440 0h160v-160H620v160Z\"/>\n",
              "  </svg>\n",
              "    </button>\n",
              "\n",
              "  <style>\n",
              "    .colab-df-container {\n",
              "      display:flex;\n",
              "      gap: 12px;\n",
              "    }\n",
              "\n",
              "    .colab-df-convert {\n",
              "      background-color: #E8F0FE;\n",
              "      border: none;\n",
              "      border-radius: 50%;\n",
              "      cursor: pointer;\n",
              "      display: none;\n",
              "      fill: #1967D2;\n",
              "      height: 32px;\n",
              "      padding: 0 0 0 0;\n",
              "      width: 32px;\n",
              "    }\n",
              "\n",
              "    .colab-df-convert:hover {\n",
              "      background-color: #E2EBFA;\n",
              "      box-shadow: 0px 1px 2px rgba(60, 64, 67, 0.3), 0px 1px 3px 1px rgba(60, 64, 67, 0.15);\n",
              "      fill: #174EA6;\n",
              "    }\n",
              "\n",
              "    .colab-df-buttons div {\n",
              "      margin-bottom: 4px;\n",
              "    }\n",
              "\n",
              "    [theme=dark] .colab-df-convert {\n",
              "      background-color: #3B4455;\n",
              "      fill: #D2E3FC;\n",
              "    }\n",
              "\n",
              "    [theme=dark] .colab-df-convert:hover {\n",
              "      background-color: #434B5C;\n",
              "      box-shadow: 0px 1px 3px 1px rgba(0, 0, 0, 0.15);\n",
              "      filter: drop-shadow(0px 1px 2px rgba(0, 0, 0, 0.3));\n",
              "      fill: #FFFFFF;\n",
              "    }\n",
              "  </style>\n",
              "\n",
              "    <script>\n",
              "      const buttonEl =\n",
              "        document.querySelector('#df-0b718085-6807-4389-9e3f-eaf138adea1a button.colab-df-convert');\n",
              "      buttonEl.style.display =\n",
              "        google.colab.kernel.accessAllowed ? 'block' : 'none';\n",
              "\n",
              "      async function convertToInteractive(key) {\n",
              "        const element = document.querySelector('#df-0b718085-6807-4389-9e3f-eaf138adea1a');\n",
              "        const dataTable =\n",
              "          await google.colab.kernel.invokeFunction('convertToInteractive',\n",
              "                                                    [key], {});\n",
              "        if (!dataTable) return;\n",
              "\n",
              "        const docLinkHtml = 'Like what you see? Visit the ' +\n",
              "          '<a target=\"_blank\" href=https://colab.research.google.com/notebooks/data_table.ipynb>data table notebook</a>'\n",
              "          + ' to learn more about interactive tables.';\n",
              "        element.innerHTML = '';\n",
              "        dataTable['output_type'] = 'display_data';\n",
              "        await google.colab.output.renderOutput(dataTable, element);\n",
              "        const docLink = document.createElement('div');\n",
              "        docLink.innerHTML = docLinkHtml;\n",
              "        element.appendChild(docLink);\n",
              "      }\n",
              "    </script>\n",
              "  </div>\n",
              "\n",
              "\n",
              "<div id=\"df-8d7d7d8d-e2e1-4d5f-9d0a-324066edecb7\">\n",
              "  <button class=\"colab-df-quickchart\" onclick=\"quickchart('df-8d7d7d8d-e2e1-4d5f-9d0a-324066edecb7')\"\n",
              "            title=\"Suggest charts\"\n",
              "            style=\"display:none;\">\n",
              "\n",
              "<svg xmlns=\"http://www.w3.org/2000/svg\" height=\"24px\"viewBox=\"0 0 24 24\"\n",
              "     width=\"24px\">\n",
              "    <g>\n",
              "        <path d=\"M19 3H5c-1.1 0-2 .9-2 2v14c0 1.1.9 2 2 2h14c1.1 0 2-.9 2-2V5c0-1.1-.9-2-2-2zM9 17H7v-7h2v7zm4 0h-2V7h2v10zm4 0h-2v-4h2v4z\"/>\n",
              "    </g>\n",
              "</svg>\n",
              "  </button>\n",
              "\n",
              "<style>\n",
              "  .colab-df-quickchart {\n",
              "      --bg-color: #E8F0FE;\n",
              "      --fill-color: #1967D2;\n",
              "      --hover-bg-color: #E2EBFA;\n",
              "      --hover-fill-color: #174EA6;\n",
              "      --disabled-fill-color: #AAA;\n",
              "      --disabled-bg-color: #DDD;\n",
              "  }\n",
              "\n",
              "  [theme=dark] .colab-df-quickchart {\n",
              "      --bg-color: #3B4455;\n",
              "      --fill-color: #D2E3FC;\n",
              "      --hover-bg-color: #434B5C;\n",
              "      --hover-fill-color: #FFFFFF;\n",
              "      --disabled-bg-color: #3B4455;\n",
              "      --disabled-fill-color: #666;\n",
              "  }\n",
              "\n",
              "  .colab-df-quickchart {\n",
              "    background-color: var(--bg-color);\n",
              "    border: none;\n",
              "    border-radius: 50%;\n",
              "    cursor: pointer;\n",
              "    display: none;\n",
              "    fill: var(--fill-color);\n",
              "    height: 32px;\n",
              "    padding: 0;\n",
              "    width: 32px;\n",
              "  }\n",
              "\n",
              "  .colab-df-quickchart:hover {\n",
              "    background-color: var(--hover-bg-color);\n",
              "    box-shadow: 0 1px 2px rgba(60, 64, 67, 0.3), 0 1px 3px 1px rgba(60, 64, 67, 0.15);\n",
              "    fill: var(--button-hover-fill-color);\n",
              "  }\n",
              "\n",
              "  .colab-df-quickchart-complete:disabled,\n",
              "  .colab-df-quickchart-complete:disabled:hover {\n",
              "    background-color: var(--disabled-bg-color);\n",
              "    fill: var(--disabled-fill-color);\n",
              "    box-shadow: none;\n",
              "  }\n",
              "\n",
              "  .colab-df-spinner {\n",
              "    border: 2px solid var(--fill-color);\n",
              "    border-color: transparent;\n",
              "    border-bottom-color: var(--fill-color);\n",
              "    animation:\n",
              "      spin 1s steps(1) infinite;\n",
              "  }\n",
              "\n",
              "  @keyframes spin {\n",
              "    0% {\n",
              "      border-color: transparent;\n",
              "      border-bottom-color: var(--fill-color);\n",
              "      border-left-color: var(--fill-color);\n",
              "    }\n",
              "    20% {\n",
              "      border-color: transparent;\n",
              "      border-left-color: var(--fill-color);\n",
              "      border-top-color: var(--fill-color);\n",
              "    }\n",
              "    30% {\n",
              "      border-color: transparent;\n",
              "      border-left-color: var(--fill-color);\n",
              "      border-top-color: var(--fill-color);\n",
              "      border-right-color: var(--fill-color);\n",
              "    }\n",
              "    40% {\n",
              "      border-color: transparent;\n",
              "      border-right-color: var(--fill-color);\n",
              "      border-top-color: var(--fill-color);\n",
              "    }\n",
              "    60% {\n",
              "      border-color: transparent;\n",
              "      border-right-color: var(--fill-color);\n",
              "    }\n",
              "    80% {\n",
              "      border-color: transparent;\n",
              "      border-right-color: var(--fill-color);\n",
              "      border-bottom-color: var(--fill-color);\n",
              "    }\n",
              "    90% {\n",
              "      border-color: transparent;\n",
              "      border-bottom-color: var(--fill-color);\n",
              "    }\n",
              "  }\n",
              "</style>\n",
              "\n",
              "  <script>\n",
              "    async function quickchart(key) {\n",
              "      const quickchartButtonEl =\n",
              "        document.querySelector('#' + key + ' button');\n",
              "      quickchartButtonEl.disabled = true;  // To prevent multiple clicks.\n",
              "      quickchartButtonEl.classList.add('colab-df-spinner');\n",
              "      try {\n",
              "        const charts = await google.colab.kernel.invokeFunction(\n",
              "            'suggestCharts', [key], {});\n",
              "      } catch (error) {\n",
              "        console.error('Error during call to suggestCharts:', error);\n",
              "      }\n",
              "      quickchartButtonEl.classList.remove('colab-df-spinner');\n",
              "      quickchartButtonEl.classList.add('colab-df-quickchart-complete');\n",
              "    }\n",
              "    (() => {\n",
              "      let quickchartButtonEl =\n",
              "        document.querySelector('#df-8d7d7d8d-e2e1-4d5f-9d0a-324066edecb7 button');\n",
              "      quickchartButtonEl.style.display =\n",
              "        google.colab.kernel.accessAllowed ? 'block' : 'none';\n",
              "    })();\n",
              "  </script>\n",
              "</div>\n",
              "\n",
              "    </div>\n",
              "  </div>\n"
            ],
            "application/vnd.google.colaboratory.intrinsic+json": {
              "type": "dataframe",
              "summary": "{\n  \"name\": \"X_train\",\n  \"rows\": 8,\n  \"fields\": [\n    {\n      \"column\": \"id\",\n      \"properties\": {\n        \"dtype\": \"number\",\n        \"std\": 11176.27316308662,\n        \"min\": 0.0,\n        \"max\": 32560.0,\n        \"num_unique_values\": 8,\n        \"samples\": [\n          16264.02788015288,\n          16253.5,\n          29304.0\n        ],\n        \"semantic_type\": \"\",\n        \"description\": \"\"\n      }\n    },\n    {\n      \"column\": \"age\",\n      \"properties\": {\n        \"dtype\": \"number\",\n        \"std\": 10349.621014673963,\n        \"min\": -38.0,\n        \"max\": 29304.0,\n        \"num_unique_values\": 8,\n        \"samples\": [\n          38.55322272292776,\n          37.0,\n          29304.0\n        ],\n        \"semantic_type\": \"\",\n        \"description\": \"\"\n      }\n    },\n    {\n      \"column\": \"fnlwgt\",\n      \"properties\": {\n        \"dtype\": \"number\",\n        \"std\": 487157.3820273893,\n        \"min\": 12285.0,\n        \"max\": 1484705.0,\n        \"num_unique_values\": 8,\n        \"samples\": [\n          189748.76808626807,\n          178376.5,\n          29304.0\n        ],\n        \"semantic_type\": \"\",\n        \"description\": \"\"\n      }\n    },\n    {\n      \"column\": \"education.num\",\n      \"properties\": {\n        \"dtype\": \"number\",\n        \"std\": 10357.466322135548,\n        \"min\": 1.0,\n        \"max\": 29304.0,\n        \"num_unique_values\": 8,\n        \"samples\": [\n          10.080842205842206,\n          10.0,\n          29304.0\n        ],\n        \"semantic_type\": \"\",\n        \"description\": \"\"\n      }\n    },\n    {\n      \"column\": \"capital.gain\",\n      \"properties\": {\n        \"dtype\": \"number\",\n        \"std\": 34927.4101467677,\n        \"min\": 0.0,\n        \"max\": 99999.0,\n        \"num_unique_values\": 5,\n        \"samples\": [\n          1093.8587223587224,\n          99999.0,\n          7477.435639554638\n        ],\n        \"semantic_type\": \"\",\n        \"description\": \"\"\n      }\n    },\n    {\n      \"column\": \"capital.loss\",\n      \"properties\": {\n        \"dtype\": \"number\",\n        \"std\": 10226.749987248962,\n        \"min\": 0.0,\n        \"max\": 29304.0,\n        \"num_unique_values\": 5,\n        \"samples\": [\n          86.74450586950587,\n          4356.0,\n          401.5189284325422\n        ],\n        \"semantic_type\": \"\",\n        \"description\": \"\"\n      }\n    },\n    {\n      \"column\": \"hours.per.week\",\n      \"properties\": {\n        \"dtype\": \"number\",\n        \"std\": 10346.53978450417,\n        \"min\": 1.0,\n        \"max\": 29304.0,\n        \"num_unique_values\": 7,\n        \"samples\": [\n          29304.0,\n          40.43403630903631,\n          45.0\n        ],\n        \"semantic_type\": \"\",\n        \"description\": \"\"\n      }\n    }\n  ]\n}"
            }
          },
          "metadata": {},
          "execution_count": 73
        }
      ]
    },
    {
      "cell_type": "code",
      "metadata": {
        "id": "yfKQO_vk92PZ",
        "colab": {
          "base_uri": "https://localhost:8080/",
          "height": 216
        },
        "outputId": "c5137382-aa4f-4df7-ab00-1c1507c5d494"
      },
      "source": [
        "# age가 음수인 데이터\n",
        "X_train[X_train['age'] <= 0]"
      ],
      "execution_count": 75,
      "outputs": [
        {
          "output_type": "execute_result",
          "data": {
            "text/plain": [
              "          id   age workclass  fnlwgt     education  education.num  \\\n",
              "39     29188 -33.0   Private  263561  Some-college             10   \n",
              "79     14325 -38.0   Private   22245       HS-grad              9   \n",
              "26161   4292 -25.0   Private  200681  Some-college             10   \n",
              "\n",
              "           marital.status       occupation relationship   race   sex  \\\n",
              "39     Married-civ-spouse     Craft-repair      Husband  White  Male   \n",
              "79     Married-civ-spouse  Exec-managerial      Husband  White  Male   \n",
              "26161       Never-married                X    Own-child  White  Male   \n",
              "\n",
              "       capital.gain  capital.loss  hours.per.week native.country  \n",
              "39                0             0            60.0  United-States  \n",
              "79                0             0            60.0  United-States  \n",
              "26161             0             0            40.0  United-States  "
            ],
            "text/html": [
              "\n",
              "  <div id=\"df-ee3db1ab-0c42-4b39-9d63-072023c1ae53\" class=\"colab-df-container\">\n",
              "    <div>\n",
              "<style scoped>\n",
              "    .dataframe tbody tr th:only-of-type {\n",
              "        vertical-align: middle;\n",
              "    }\n",
              "\n",
              "    .dataframe tbody tr th {\n",
              "        vertical-align: top;\n",
              "    }\n",
              "\n",
              "    .dataframe thead th {\n",
              "        text-align: right;\n",
              "    }\n",
              "</style>\n",
              "<table border=\"1\" class=\"dataframe\">\n",
              "  <thead>\n",
              "    <tr style=\"text-align: right;\">\n",
              "      <th></th>\n",
              "      <th>id</th>\n",
              "      <th>age</th>\n",
              "      <th>workclass</th>\n",
              "      <th>fnlwgt</th>\n",
              "      <th>education</th>\n",
              "      <th>education.num</th>\n",
              "      <th>marital.status</th>\n",
              "      <th>occupation</th>\n",
              "      <th>relationship</th>\n",
              "      <th>race</th>\n",
              "      <th>sex</th>\n",
              "      <th>capital.gain</th>\n",
              "      <th>capital.loss</th>\n",
              "      <th>hours.per.week</th>\n",
              "      <th>native.country</th>\n",
              "    </tr>\n",
              "  </thead>\n",
              "  <tbody>\n",
              "    <tr>\n",
              "      <th>39</th>\n",
              "      <td>29188</td>\n",
              "      <td>-33.0</td>\n",
              "      <td>Private</td>\n",
              "      <td>263561</td>\n",
              "      <td>Some-college</td>\n",
              "      <td>10</td>\n",
              "      <td>Married-civ-spouse</td>\n",
              "      <td>Craft-repair</td>\n",
              "      <td>Husband</td>\n",
              "      <td>White</td>\n",
              "      <td>Male</td>\n",
              "      <td>0</td>\n",
              "      <td>0</td>\n",
              "      <td>60.0</td>\n",
              "      <td>United-States</td>\n",
              "    </tr>\n",
              "    <tr>\n",
              "      <th>79</th>\n",
              "      <td>14325</td>\n",
              "      <td>-38.0</td>\n",
              "      <td>Private</td>\n",
              "      <td>22245</td>\n",
              "      <td>HS-grad</td>\n",
              "      <td>9</td>\n",
              "      <td>Married-civ-spouse</td>\n",
              "      <td>Exec-managerial</td>\n",
              "      <td>Husband</td>\n",
              "      <td>White</td>\n",
              "      <td>Male</td>\n",
              "      <td>0</td>\n",
              "      <td>0</td>\n",
              "      <td>60.0</td>\n",
              "      <td>United-States</td>\n",
              "    </tr>\n",
              "    <tr>\n",
              "      <th>26161</th>\n",
              "      <td>4292</td>\n",
              "      <td>-25.0</td>\n",
              "      <td>Private</td>\n",
              "      <td>200681</td>\n",
              "      <td>Some-college</td>\n",
              "      <td>10</td>\n",
              "      <td>Never-married</td>\n",
              "      <td>X</td>\n",
              "      <td>Own-child</td>\n",
              "      <td>White</td>\n",
              "      <td>Male</td>\n",
              "      <td>0</td>\n",
              "      <td>0</td>\n",
              "      <td>40.0</td>\n",
              "      <td>United-States</td>\n",
              "    </tr>\n",
              "  </tbody>\n",
              "</table>\n",
              "</div>\n",
              "    <div class=\"colab-df-buttons\">\n",
              "\n",
              "  <div class=\"colab-df-container\">\n",
              "    <button class=\"colab-df-convert\" onclick=\"convertToInteractive('df-ee3db1ab-0c42-4b39-9d63-072023c1ae53')\"\n",
              "            title=\"Convert this dataframe to an interactive table.\"\n",
              "            style=\"display:none;\">\n",
              "\n",
              "  <svg xmlns=\"http://www.w3.org/2000/svg\" height=\"24px\" viewBox=\"0 -960 960 960\">\n",
              "    <path d=\"M120-120v-720h720v720H120Zm60-500h600v-160H180v160Zm220 220h160v-160H400v160Zm0 220h160v-160H400v160ZM180-400h160v-160H180v160Zm440 0h160v-160H620v160ZM180-180h160v-160H180v160Zm440 0h160v-160H620v160Z\"/>\n",
              "  </svg>\n",
              "    </button>\n",
              "\n",
              "  <style>\n",
              "    .colab-df-container {\n",
              "      display:flex;\n",
              "      gap: 12px;\n",
              "    }\n",
              "\n",
              "    .colab-df-convert {\n",
              "      background-color: #E8F0FE;\n",
              "      border: none;\n",
              "      border-radius: 50%;\n",
              "      cursor: pointer;\n",
              "      display: none;\n",
              "      fill: #1967D2;\n",
              "      height: 32px;\n",
              "      padding: 0 0 0 0;\n",
              "      width: 32px;\n",
              "    }\n",
              "\n",
              "    .colab-df-convert:hover {\n",
              "      background-color: #E2EBFA;\n",
              "      box-shadow: 0px 1px 2px rgba(60, 64, 67, 0.3), 0px 1px 3px 1px rgba(60, 64, 67, 0.15);\n",
              "      fill: #174EA6;\n",
              "    }\n",
              "\n",
              "    .colab-df-buttons div {\n",
              "      margin-bottom: 4px;\n",
              "    }\n",
              "\n",
              "    [theme=dark] .colab-df-convert {\n",
              "      background-color: #3B4455;\n",
              "      fill: #D2E3FC;\n",
              "    }\n",
              "\n",
              "    [theme=dark] .colab-df-convert:hover {\n",
              "      background-color: #434B5C;\n",
              "      box-shadow: 0px 1px 3px 1px rgba(0, 0, 0, 0.15);\n",
              "      filter: drop-shadow(0px 1px 2px rgba(0, 0, 0, 0.3));\n",
              "      fill: #FFFFFF;\n",
              "    }\n",
              "  </style>\n",
              "\n",
              "    <script>\n",
              "      const buttonEl =\n",
              "        document.querySelector('#df-ee3db1ab-0c42-4b39-9d63-072023c1ae53 button.colab-df-convert');\n",
              "      buttonEl.style.display =\n",
              "        google.colab.kernel.accessAllowed ? 'block' : 'none';\n",
              "\n",
              "      async function convertToInteractive(key) {\n",
              "        const element = document.querySelector('#df-ee3db1ab-0c42-4b39-9d63-072023c1ae53');\n",
              "        const dataTable =\n",
              "          await google.colab.kernel.invokeFunction('convertToInteractive',\n",
              "                                                    [key], {});\n",
              "        if (!dataTable) return;\n",
              "\n",
              "        const docLinkHtml = 'Like what you see? Visit the ' +\n",
              "          '<a target=\"_blank\" href=https://colab.research.google.com/notebooks/data_table.ipynb>data table notebook</a>'\n",
              "          + ' to learn more about interactive tables.';\n",
              "        element.innerHTML = '';\n",
              "        dataTable['output_type'] = 'display_data';\n",
              "        await google.colab.output.renderOutput(dataTable, element);\n",
              "        const docLink = document.createElement('div');\n",
              "        docLink.innerHTML = docLinkHtml;\n",
              "        element.appendChild(docLink);\n",
              "      }\n",
              "    </script>\n",
              "  </div>\n",
              "\n",
              "\n",
              "<div id=\"df-bbd0e210-0394-4b51-b1a6-0d48348ee652\">\n",
              "  <button class=\"colab-df-quickchart\" onclick=\"quickchart('df-bbd0e210-0394-4b51-b1a6-0d48348ee652')\"\n",
              "            title=\"Suggest charts\"\n",
              "            style=\"display:none;\">\n",
              "\n",
              "<svg xmlns=\"http://www.w3.org/2000/svg\" height=\"24px\"viewBox=\"0 0 24 24\"\n",
              "     width=\"24px\">\n",
              "    <g>\n",
              "        <path d=\"M19 3H5c-1.1 0-2 .9-2 2v14c0 1.1.9 2 2 2h14c1.1 0 2-.9 2-2V5c0-1.1-.9-2-2-2zM9 17H7v-7h2v7zm4 0h-2V7h2v10zm4 0h-2v-4h2v4z\"/>\n",
              "    </g>\n",
              "</svg>\n",
              "  </button>\n",
              "\n",
              "<style>\n",
              "  .colab-df-quickchart {\n",
              "      --bg-color: #E8F0FE;\n",
              "      --fill-color: #1967D2;\n",
              "      --hover-bg-color: #E2EBFA;\n",
              "      --hover-fill-color: #174EA6;\n",
              "      --disabled-fill-color: #AAA;\n",
              "      --disabled-bg-color: #DDD;\n",
              "  }\n",
              "\n",
              "  [theme=dark] .colab-df-quickchart {\n",
              "      --bg-color: #3B4455;\n",
              "      --fill-color: #D2E3FC;\n",
              "      --hover-bg-color: #434B5C;\n",
              "      --hover-fill-color: #FFFFFF;\n",
              "      --disabled-bg-color: #3B4455;\n",
              "      --disabled-fill-color: #666;\n",
              "  }\n",
              "\n",
              "  .colab-df-quickchart {\n",
              "    background-color: var(--bg-color);\n",
              "    border: none;\n",
              "    border-radius: 50%;\n",
              "    cursor: pointer;\n",
              "    display: none;\n",
              "    fill: var(--fill-color);\n",
              "    height: 32px;\n",
              "    padding: 0;\n",
              "    width: 32px;\n",
              "  }\n",
              "\n",
              "  .colab-df-quickchart:hover {\n",
              "    background-color: var(--hover-bg-color);\n",
              "    box-shadow: 0 1px 2px rgba(60, 64, 67, 0.3), 0 1px 3px 1px rgba(60, 64, 67, 0.15);\n",
              "    fill: var(--button-hover-fill-color);\n",
              "  }\n",
              "\n",
              "  .colab-df-quickchart-complete:disabled,\n",
              "  .colab-df-quickchart-complete:disabled:hover {\n",
              "    background-color: var(--disabled-bg-color);\n",
              "    fill: var(--disabled-fill-color);\n",
              "    box-shadow: none;\n",
              "  }\n",
              "\n",
              "  .colab-df-spinner {\n",
              "    border: 2px solid var(--fill-color);\n",
              "    border-color: transparent;\n",
              "    border-bottom-color: var(--fill-color);\n",
              "    animation:\n",
              "      spin 1s steps(1) infinite;\n",
              "  }\n",
              "\n",
              "  @keyframes spin {\n",
              "    0% {\n",
              "      border-color: transparent;\n",
              "      border-bottom-color: var(--fill-color);\n",
              "      border-left-color: var(--fill-color);\n",
              "    }\n",
              "    20% {\n",
              "      border-color: transparent;\n",
              "      border-left-color: var(--fill-color);\n",
              "      border-top-color: var(--fill-color);\n",
              "    }\n",
              "    30% {\n",
              "      border-color: transparent;\n",
              "      border-left-color: var(--fill-color);\n",
              "      border-top-color: var(--fill-color);\n",
              "      border-right-color: var(--fill-color);\n",
              "    }\n",
              "    40% {\n",
              "      border-color: transparent;\n",
              "      border-right-color: var(--fill-color);\n",
              "      border-top-color: var(--fill-color);\n",
              "    }\n",
              "    60% {\n",
              "      border-color: transparent;\n",
              "      border-right-color: var(--fill-color);\n",
              "    }\n",
              "    80% {\n",
              "      border-color: transparent;\n",
              "      border-right-color: var(--fill-color);\n",
              "      border-bottom-color: var(--fill-color);\n",
              "    }\n",
              "    90% {\n",
              "      border-color: transparent;\n",
              "      border-bottom-color: var(--fill-color);\n",
              "    }\n",
              "  }\n",
              "</style>\n",
              "\n",
              "  <script>\n",
              "    async function quickchart(key) {\n",
              "      const quickchartButtonEl =\n",
              "        document.querySelector('#' + key + ' button');\n",
              "      quickchartButtonEl.disabled = true;  // To prevent multiple clicks.\n",
              "      quickchartButtonEl.classList.add('colab-df-spinner');\n",
              "      try {\n",
              "        const charts = await google.colab.kernel.invokeFunction(\n",
              "            'suggestCharts', [key], {});\n",
              "      } catch (error) {\n",
              "        console.error('Error during call to suggestCharts:', error);\n",
              "      }\n",
              "      quickchartButtonEl.classList.remove('colab-df-spinner');\n",
              "      quickchartButtonEl.classList.add('colab-df-quickchart-complete');\n",
              "    }\n",
              "    (() => {\n",
              "      let quickchartButtonEl =\n",
              "        document.querySelector('#df-bbd0e210-0394-4b51-b1a6-0d48348ee652 button');\n",
              "      quickchartButtonEl.style.display =\n",
              "        google.colab.kernel.accessAllowed ? 'block' : 'none';\n",
              "    })();\n",
              "  </script>\n",
              "</div>\n",
              "\n",
              "    </div>\n",
              "  </div>\n"
            ],
            "application/vnd.google.colaboratory.intrinsic+json": {
              "type": "dataframe",
              "summary": "{\n  \"name\": \"X_train[X_train['age'] <= 0]\",\n  \"rows\": 3,\n  \"fields\": [\n    {\n      \"column\": \"id\",\n      \"properties\": {\n        \"dtype\": \"number\",\n        \"std\": 12525,\n        \"min\": 4292,\n        \"max\": 29188,\n        \"num_unique_values\": 3,\n        \"samples\": [\n          29188,\n          14325,\n          4292\n        ],\n        \"semantic_type\": \"\",\n        \"description\": \"\"\n      }\n    },\n    {\n      \"column\": \"age\",\n      \"properties\": {\n        \"dtype\": \"number\",\n        \"std\": 6.557438524302,\n        \"min\": -38.0,\n        \"max\": -25.0,\n        \"num_unique_values\": 3,\n        \"samples\": [\n          -33.0,\n          -38.0,\n          -25.0\n        ],\n        \"semantic_type\": \"\",\n        \"description\": \"\"\n      }\n    },\n    {\n      \"column\": \"workclass\",\n      \"properties\": {\n        \"dtype\": \"category\",\n        \"num_unique_values\": 1,\n        \"samples\": [\n          \"Private\"\n        ],\n        \"semantic_type\": \"\",\n        \"description\": \"\"\n      }\n    },\n    {\n      \"column\": \"fnlwgt\",\n      \"properties\": {\n        \"dtype\": \"number\",\n        \"std\": 125184,\n        \"min\": 22245,\n        \"max\": 263561,\n        \"num_unique_values\": 3,\n        \"samples\": [\n          263561\n        ],\n        \"semantic_type\": \"\",\n        \"description\": \"\"\n      }\n    },\n    {\n      \"column\": \"education\",\n      \"properties\": {\n        \"dtype\": \"string\",\n        \"num_unique_values\": 2,\n        \"samples\": [\n          \"HS-grad\"\n        ],\n        \"semantic_type\": \"\",\n        \"description\": \"\"\n      }\n    },\n    {\n      \"column\": \"education.num\",\n      \"properties\": {\n        \"dtype\": \"number\",\n        \"std\": 0,\n        \"min\": 9,\n        \"max\": 10,\n        \"num_unique_values\": 2,\n        \"samples\": [\n          9\n        ],\n        \"semantic_type\": \"\",\n        \"description\": \"\"\n      }\n    },\n    {\n      \"column\": \"marital.status\",\n      \"properties\": {\n        \"dtype\": \"string\",\n        \"num_unique_values\": 2,\n        \"samples\": [\n          \"Never-married\"\n        ],\n        \"semantic_type\": \"\",\n        \"description\": \"\"\n      }\n    },\n    {\n      \"column\": \"occupation\",\n      \"properties\": {\n        \"dtype\": \"string\",\n        \"num_unique_values\": 3,\n        \"samples\": [\n          \"Craft-repair\"\n        ],\n        \"semantic_type\": \"\",\n        \"description\": \"\"\n      }\n    },\n    {\n      \"column\": \"relationship\",\n      \"properties\": {\n        \"dtype\": \"string\",\n        \"num_unique_values\": 2,\n        \"samples\": [\n          \"Own-child\"\n        ],\n        \"semantic_type\": \"\",\n        \"description\": \"\"\n      }\n    },\n    {\n      \"column\": \"race\",\n      \"properties\": {\n        \"dtype\": \"category\",\n        \"num_unique_values\": 1,\n        \"samples\": [\n          \"White\"\n        ],\n        \"semantic_type\": \"\",\n        \"description\": \"\"\n      }\n    },\n    {\n      \"column\": \"sex\",\n      \"properties\": {\n        \"dtype\": \"category\",\n        \"num_unique_values\": 1,\n        \"samples\": [\n          \"Male\"\n        ],\n        \"semantic_type\": \"\",\n        \"description\": \"\"\n      }\n    },\n    {\n      \"column\": \"capital.gain\",\n      \"properties\": {\n        \"dtype\": \"number\",\n        \"std\": 0,\n        \"min\": 0,\n        \"max\": 0,\n        \"num_unique_values\": 1,\n        \"samples\": [\n          0\n        ],\n        \"semantic_type\": \"\",\n        \"description\": \"\"\n      }\n    },\n    {\n      \"column\": \"capital.loss\",\n      \"properties\": {\n        \"dtype\": \"number\",\n        \"std\": 0,\n        \"min\": 0,\n        \"max\": 0,\n        \"num_unique_values\": 1,\n        \"samples\": [\n          0\n        ],\n        \"semantic_type\": \"\",\n        \"description\": \"\"\n      }\n    },\n    {\n      \"column\": \"hours.per.week\",\n      \"properties\": {\n        \"dtype\": \"number\",\n        \"std\": 11.547005383792515,\n        \"min\": 40.0,\n        \"max\": 60.0,\n        \"num_unique_values\": 2,\n        \"samples\": [\n          40.0\n        ],\n        \"semantic_type\": \"\",\n        \"description\": \"\"\n      }\n    },\n    {\n      \"column\": \"native.country\",\n      \"properties\": {\n        \"dtype\": \"category\",\n        \"num_unique_values\": 1,\n        \"samples\": [\n          \"United-States\"\n        ],\n        \"semantic_type\": \"\",\n        \"description\": \"\"\n      }\n    }\n  ]\n}"
            }
          },
          "metadata": {},
          "execution_count": 75
        }
      ]
    },
    {
      "cell_type": "code",
      "metadata": {
        "id": "bdUqrC2OOp8o",
        "colab": {
          "base_uri": "https://localhost:8080/"
        },
        "outputId": "e5cf7a5d-1ae1-4758-ecab-0cc0ec505531"
      },
      "source": [
        "# age가 1이상인 데이터만 살림\n",
        "print(X_train.shape)\n",
        "\n",
        "X_train = X_train[X_train['age'] > 0]\n",
        "print(X_train.shape)"
      ],
      "execution_count": 76,
      "outputs": [
        {
          "output_type": "stream",
          "name": "stdout",
          "text": [
            "(29304, 15)\n",
            "(29301, 15)\n"
          ]
        }
      ]
    },
    {
      "cell_type": "code",
      "metadata": {
        "id": "4144wRjvzZgw",
        "colab": {
          "base_uri": "https://localhost:8080/"
        },
        "outputId": "357330df-b587-433b-e90c-3b4f81de8d2a"
      },
      "source": [
        "# IQR로 확인\n",
        "cols = ['age','fnlwgt','education.num', 'capital.gain', 'capital.loss', 'hours.per.week']\n",
        "for col in cols:\n",
        "    Q1 = X_train[col].quantile(.25)\n",
        "    Q3 = X_train[col].quantile(.75)\n",
        "    IQR = Q3 - Q1\n",
        "    min_iqr = Q1-1.5*IQR\n",
        "    max_iqr = Q3+1.5*IQR\n",
        "    cnt=sum((X_train[col] < min_iqr) | (X_train[col] > max_iqr))\n",
        "    print(f'{col}의 이상치:{cnt}개 입니다.')"
      ],
      "execution_count": 77,
      "outputs": [
        {
          "output_type": "stream",
          "name": "stdout",
          "text": [
            "age의 이상치:121개 입니다.\n",
            "fnlwgt의 이상치:892개 입니다.\n",
            "education.num의 이상치:1077개 입니다.\n",
            "capital.gain의 이상치:2459개 입니다.\n",
            "capital.loss의 이상치:1359개 입니다.\n",
            "hours.per.week의 이상치:8104개 입니다.\n"
          ]
        }
      ]
    },
    {
      "cell_type": "markdown",
      "metadata": {
        "id": "AYFILnBVeedY"
      },
      "source": [
        "## 전처리 주의 사항\n",
        "- 이상치, 결측치에 대해 test 데이터(행) 삭제 불가\n",
        "    - 예) test 데이터 100개가 주어지고 100개로 평가를 하는데 임의로 10개를 삭제해버리면 채점을 할 수가 없음\n",
        "    - train 데이터는 학습/훈련용 데이터임. 데이터가 많을 경우 임의로 소수 데이터(행) 삭제해도 무방함\n",
        "- test, train 컬럼은 삭제/추가 가능. 단, train과 컬럼수와 명이 일치해야 함 (y(target) 제외)\n"
      ]
    }
  ]
}